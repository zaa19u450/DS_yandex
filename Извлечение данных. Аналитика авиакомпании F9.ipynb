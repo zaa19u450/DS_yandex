  {
   "cell_type": "markdown",
   "metadata": {},
   "source": [
    "Вы аналитик российской авиакомпании F9, выполняющей внутренние пассажирские перевозки. Важно понять предпочтения пользователей, покупающих билеты на разные направления.\n",
    "\n",
    "Вам предстоит изучить базу данных и проанализировать спрос пассажиров на рейсы в города, где проходят крупнейшие культурные фестивали."
   ]
  },
  {
   "cell_type": "markdown",
   "metadata": {},
   "source": [
    "**Шаг 1.  Аналитика средствами Python**\n",
    "\n",
    "У вас есть файлы, в которых содержатся результаты запросов из предыдущих заданий.\n",
    "\n",
    "**query_1.csv** — результат первого запроса. В нём содержится такая информация:\n",
    "\n",
    "- *model* — **модель самолета;\n",
    "- *flights_amount* — количество рейсов для каждой модели самолетов *model* в сентябре 2018 года.\n",
    "\n",
    "**query_3.csv** — результат третьего запроса. В нём содержится такая информация:\n",
    "\n",
    "- *city* — город;\n",
    "- *average_flights* — среднее количество рейсов, прибывающих в город (*city*) за день в сентябре 2018 года.\n",
    "\n",
    " Для этих двух наборов данных нужно:\n",
    "\n",
    "- импортировать файлы;\n",
    "- изучить данные в них;\n",
    "- проверить типы данных на корректность;\n",
    "- выбрать топ-10 городов по количеству рейсов;\n",
    "- построить графики: модели самолётов и количество рейсов, города и количество рейсов, топ-10 городов и количество рейсов;\n",
    "- сделать выводы по каждому из графиков, пояснить результат.\n",
    "\n",
    "**Шаг 2.  Проверка гипотезы средствами Python**\n",
    "\n",
    "**query_last.csv** — результат последнего запроса. В нём следующая информация:\n",
    "\n",
    "- *week_number* — **номер недели;\n",
    "- *ticket_amount* — количество проданных билетов за неделю;\n",
    "- *festival_week —* есть ли на этой неделе фестиваль;\n",
    "- *festival_name —* название фестиваля.\n",
    "\n",
    "Проверьте гипотезу: «Средний спрос на билеты во время фестивалей не отличается от среднего спроса на билеты в обычное время».\n",
    "\n",
    "Пороговое значение *alpha* задайте самостоятельно.\n",
    "\n",
    "Поясните:\n",
    "\n",
    "- Как вы формулировали нулевую и альтернативную гипотезы;\n",
    "- Какой критерий использовали для проверки гипотез и почему."
   ]
  },
  {
   "cell_type": "markdown",
   "metadata": {},
   "source": [
    "# 1. Аналитика"
   ]
  },
  {
   "cell_type": "markdown",
   "metadata": {},
   "source": [
    "## 0. Импорт библиотек"
   ]
  },
  {
   "cell_type": "code",
   "execution_count": 13,
   "metadata": {},
   "outputs": [],
   "source": [
    "import pandas as pd\n",
    "import matplotlib.pyplot as plt\n",
    "from scipy import stats as st\n",
    "import numpy as np"
   ]
  },
  {
   "cell_type": "markdown",
   "metadata": {},
   "source": [
    "## 1. Импортировать файлы"
   ]
  },
  {
   "cell_type": "code",
   "execution_count": 14,
   "metadata": {},
   "outputs": [],
   "source": [
    "data_1 = pd.read_csv('/datasets/query_1.csv')\n",
    "data_3 = pd.read_csv('/datasets/query_3.csv')"
   ]
  },
  {
   "cell_type": "markdown",
   "metadata": {},
   "source": [
    "## 2. Изучить данные в них"
   ]
  },
  {
   "cell_type": "code",
   "execution_count": 15,
   "metadata": {},
   "outputs": [
    {
     "name": "stdout",
     "output_type": "stream",
     "text": [
      "Первый запрос\n",
      "<class 'pandas.core.frame.DataFrame'>\n",
      "RangeIndex: 8 entries, 0 to 7\n",
      "Data columns (total 2 columns):\n",
      "model             8 non-null object\n",
      "flights_amount    8 non-null int64\n",
      "dtypes: int64(1), object(1)\n",
      "memory usage: 256.0+ bytes\n",
      "None\n"
     ]
    },
    {
     "data": {
      "text/html": [
       "<div>\n",
       "<style scoped>\n",
       "    .dataframe tbody tr th:only-of-type {\n",
       "        vertical-align: middle;\n",
       "    }\n",
       "\n",
       "    .dataframe tbody tr th {\n",
       "        vertical-align: top;\n",
       "    }\n",
       "\n",
       "    .dataframe thead th {\n",
       "        text-align: right;\n",
       "    }\n",
       "</style>\n",
       "<table border=\"1\" class=\"dataframe\">\n",
       "  <thead>\n",
       "    <tr style=\"text-align: right;\">\n",
       "      <th></th>\n",
       "      <th>model</th>\n",
       "      <th>flights_amount</th>\n",
       "    </tr>\n",
       "  </thead>\n",
       "  <tbody>\n",
       "    <tr>\n",
       "      <td>0</td>\n",
       "      <td>Airbus A319-100</td>\n",
       "      <td>607</td>\n",
       "    </tr>\n",
       "    <tr>\n",
       "      <td>1</td>\n",
       "      <td>Airbus A321-200</td>\n",
       "      <td>960</td>\n",
       "    </tr>\n",
       "    <tr>\n",
       "      <td>2</td>\n",
       "      <td>Boeing 737-300</td>\n",
       "      <td>630</td>\n",
       "    </tr>\n",
       "    <tr>\n",
       "      <td>3</td>\n",
       "      <td>Boeing 767-300</td>\n",
       "      <td>600</td>\n",
       "    </tr>\n",
       "    <tr>\n",
       "      <td>4</td>\n",
       "      <td>Boeing 777-300</td>\n",
       "      <td>300</td>\n",
       "    </tr>\n",
       "    <tr>\n",
       "      <td>5</td>\n",
       "      <td>Bombardier CRJ-200</td>\n",
       "      <td>4446</td>\n",
       "    </tr>\n",
       "    <tr>\n",
       "      <td>6</td>\n",
       "      <td>Cessna 208 Caravan</td>\n",
       "      <td>4557</td>\n",
       "    </tr>\n",
       "    <tr>\n",
       "      <td>7</td>\n",
       "      <td>Sukhoi SuperJet-100</td>\n",
       "      <td>4185</td>\n",
       "    </tr>\n",
       "  </tbody>\n",
       "</table>\n",
       "</div>"
      ],
      "text/plain": [
       "                 model  flights_amount\n",
       "0      Airbus A319-100             607\n",
       "1      Airbus A321-200             960\n",
       "2       Boeing 737-300             630\n",
       "3       Boeing 767-300             600\n",
       "4       Boeing 777-300             300\n",
       "5   Bombardier CRJ-200            4446\n",
       "6   Cessna 208 Caravan            4557\n",
       "7  Sukhoi SuperJet-100            4185"
      ]
     },
     "execution_count": 15,
     "metadata": {},
     "output_type": "execute_result"
    }
   ],
   "source": [
    "print('Первый запрос')\n",
    "print(data_1.info())\n",
    "data_1"
   ]
  },
  {
   "cell_type": "markdown",
   "metadata": {},
   "source": [
    "model — модель самолета (всего 8);\n",
    "\n",
    "flights_amount — количество рейсов для каждой модели самолетов model в сентябре 2018 года.\n",
    "\n",
    "Пропусков в данных нет"
   ]
  },
  {
   "cell_type": "code",
   "execution_count": 16,
   "metadata": {},
   "outputs": [
    {
     "name": "stdout",
     "output_type": "stream",
     "text": [
      "Третий запрос\n",
      "<class 'pandas.core.frame.DataFrame'>\n",
      "RangeIndex: 101 entries, 0 to 100\n",
      "Data columns (total 2 columns):\n",
      "city               101 non-null object\n",
      "average_flights    101 non-null float64\n",
      "dtypes: float64(1), object(1)\n",
      "memory usage: 1.7+ KB\n",
      "None\n"
     ]
    },
    {
     "data": {
      "text/html": [
       "<div>\n",
       "<style scoped>\n",
       "    .dataframe tbody tr th:only-of-type {\n",
       "        vertical-align: middle;\n",
       "    }\n",
       "\n",
       "    .dataframe tbody tr th {\n",
       "        vertical-align: top;\n",
       "    }\n",
       "\n",
       "    .dataframe thead th {\n",
       "        text-align: right;\n",
       "    }\n",
       "</style>\n",
       "<table border=\"1\" class=\"dataframe\">\n",
       "  <thead>\n",
       "    <tr style=\"text-align: right;\">\n",
       "      <th></th>\n",
       "      <th>city</th>\n",
       "      <th>average_flights</th>\n",
       "    </tr>\n",
       "  </thead>\n",
       "  <tbody>\n",
       "    <tr>\n",
       "      <td>0</td>\n",
       "      <td>Абакан</td>\n",
       "      <td>3.870968</td>\n",
       "    </tr>\n",
       "    <tr>\n",
       "      <td>1</td>\n",
       "      <td>Анадырь</td>\n",
       "      <td>1.000000</td>\n",
       "    </tr>\n",
       "    <tr>\n",
       "      <td>2</td>\n",
       "      <td>Анапа</td>\n",
       "      <td>2.161290</td>\n",
       "    </tr>\n",
       "    <tr>\n",
       "      <td>3</td>\n",
       "      <td>Архангельск</td>\n",
       "      <td>5.354839</td>\n",
       "    </tr>\n",
       "    <tr>\n",
       "      <td>4</td>\n",
       "      <td>Астрахань</td>\n",
       "      <td>2.451613</td>\n",
       "    </tr>\n",
       "  </tbody>\n",
       "</table>\n",
       "</div>"
      ],
      "text/plain": [
       "          city  average_flights\n",
       "0       Абакан         3.870968\n",
       "1      Анадырь         1.000000\n",
       "2        Анапа         2.161290\n",
       "3  Архангельск         5.354839\n",
       "4    Астрахань         2.451613"
      ]
     },
     "execution_count": 16,
     "metadata": {},
     "output_type": "execute_result"
    }
   ],
   "source": [
    "print('Третий запрос')\n",
    "print(data_3.info())\n",
    "data_3.head()"
   ]
  },
  {
   "cell_type": "markdown",
   "metadata": {},
   "source": [
    "city — город (всего 101);\n",
    "\n",
    "average_flights — среднее количество рейсов, прибывающих в город (city) за день в сентябре 2018 года.\n",
    "\n",
    "Пропусков в данных нет"
   ]
  },
  {
   "cell_type": "markdown",
   "metadata": {},
   "source": [
    "## 3. Проверить типы данных на корректность"
   ]
  },
  {
   "cell_type": "code",
   "execution_count": 17,
   "metadata": {},
   "outputs": [
    {
     "name": "stdout",
     "output_type": "stream",
     "text": [
      "Первый запрос\n"
     ]
    },
    {
     "data": {
      "text/plain": [
       "model             object\n",
       "flights_amount     int64\n",
       "dtype: object"
      ]
     },
     "execution_count": 17,
     "metadata": {},
     "output_type": "execute_result"
    }
   ],
   "source": [
    "print('Первый запрос')\n",
    "data_1.dtypes"
   ]
  },
  {
   "cell_type": "markdown",
   "metadata": {},
   "source": [
    "Типы подобраны корректно: модель - строка, количество рейсов - целое число"
   ]
  },
  {
   "cell_type": "code",
   "execution_count": 18,
   "metadata": {},
   "outputs": [
    {
     "name": "stdout",
     "output_type": "stream",
     "text": [
      "Третий запрос\n"
     ]
    },
    {
     "data": {
      "text/plain": [
       "city                object\n",
       "average_flights    float64\n",
       "dtype: object"
      ]
     },
     "execution_count": 18,
     "metadata": {},
     "output_type": "execute_result"
    }
   ],
   "source": [
    "print('Третий запрос')\n",
    "data_3.dtypes"
   ]
  },
  {
   "cell_type": "markdown",
   "metadata": {},
   "source": [
    "Типы подобраны корректно: город - строка, среднее количество рейсов - вещественное число"
   ]
  },
  {
   "cell_type": "markdown",
   "metadata": {},
   "source": [
    "## 4. Выбрать топ-10 городов по количеству рейсов"
   ]
  },
  {
   "cell_type": "code",
   "execution_count": 19,
   "metadata": {},
   "outputs": [
    {
     "data": {
      "text/html": [
       "<div>\n",
       "<style scoped>\n",
       "    .dataframe tbody tr th:only-of-type {\n",
       "        vertical-align: middle;\n",
       "    }\n",
       "\n",
       "    .dataframe tbody tr th {\n",
       "        vertical-align: top;\n",
       "    }\n",
       "\n",
       "    .dataframe thead th {\n",
       "        text-align: right;\n",
       "    }\n",
       "</style>\n",
       "<table border=\"1\" class=\"dataframe\">\n",
       "  <thead>\n",
       "    <tr style=\"text-align: right;\">\n",
       "      <th></th>\n",
       "      <th>city</th>\n",
       "      <th>average_flights</th>\n",
       "    </tr>\n",
       "  </thead>\n",
       "  <tbody>\n",
       "    <tr>\n",
       "      <td>43</td>\n",
       "      <td>Москва</td>\n",
       "      <td>129.774194</td>\n",
       "    </tr>\n",
       "    <tr>\n",
       "      <td>70</td>\n",
       "      <td>Санкт-Петербург</td>\n",
       "      <td>31.161290</td>\n",
       "    </tr>\n",
       "    <tr>\n",
       "      <td>54</td>\n",
       "      <td>Новосибирск</td>\n",
       "      <td>17.322581</td>\n",
       "    </tr>\n",
       "    <tr>\n",
       "      <td>33</td>\n",
       "      <td>Красноярск</td>\n",
       "      <td>11.580645</td>\n",
       "    </tr>\n",
       "    <tr>\n",
       "      <td>20</td>\n",
       "      <td>Екатеринбург</td>\n",
       "      <td>11.322581</td>\n",
       "    </tr>\n",
       "    <tr>\n",
       "      <td>67</td>\n",
       "      <td>Ростов-на-Дону</td>\n",
       "      <td>10.193548</td>\n",
       "    </tr>\n",
       "    <tr>\n",
       "      <td>63</td>\n",
       "      <td>Пермь</td>\n",
       "      <td>10.129032</td>\n",
       "    </tr>\n",
       "    <tr>\n",
       "      <td>10</td>\n",
       "      <td>Брянск</td>\n",
       "      <td>10.000000</td>\n",
       "    </tr>\n",
       "    <tr>\n",
       "      <td>74</td>\n",
       "      <td>Сочи</td>\n",
       "      <td>9.612903</td>\n",
       "    </tr>\n",
       "    <tr>\n",
       "      <td>84</td>\n",
       "      <td>Ульяновск</td>\n",
       "      <td>9.580645</td>\n",
       "    </tr>\n",
       "  </tbody>\n",
       "</table>\n",
       "</div>"
      ],
      "text/plain": [
       "               city  average_flights\n",
       "43           Москва       129.774194\n",
       "70  Санкт-Петербург        31.161290\n",
       "54      Новосибирск        17.322581\n",
       "33       Красноярск        11.580645\n",
       "20     Екатеринбург        11.322581\n",
       "67   Ростов-на-Дону        10.193548\n",
       "63            Пермь        10.129032\n",
       "10           Брянск        10.000000\n",
       "74             Сочи         9.612903\n",
       "84        Ульяновск         9.580645"
      ]
     },
     "execution_count": 19,
     "metadata": {},
     "output_type": "execute_result"
    }
   ],
   "source": [
    "city_top = data_3.sort_values('average_flights', ascending = False).head(10)\n",
    "city_top"
   ]
  },
  {
   "cell_type": "markdown",
   "metadata": {},
   "source": [
    "## 5. Построить графики"
   ]
  },
  {
   "cell_type": "code",
   "execution_count": 20,
   "metadata": {},
   "outputs": [
    {
     "name": "stdout",
     "output_type": "stream",
     "text": [
      "модели самолётов и количество рейсов\n"
     ]
    },
    {
     "data": {
      "text/plain": [
       "<BarContainer object of 8 artists>"
      ]
     },
     "execution_count": 20,
     "metadata": {},
     "output_type": "execute_result"
    },
    {
     "data": {
      "image/png": "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\n",
      "text/plain": [
       "<Figure size 1224x504 with 1 Axes>"
      ]
     },
     "metadata": {
      "needs_background": "light"
     },
     "output_type": "display_data"
    }
   ],
   "source": [
    "print('модели самолётов и количество рейсов')\n",
    "#для наглядности отсортируем данные\n",
    "data_1 = data_1.sort_values('flights_amount')\n",
    "plt.figure(figsize=(17,7))\n",
    "plt.xlabel('Модели самолетов')\n",
    "plt.ylabel('Количество рейсов')\n",
    "plt.bar(data_1['model'], height = data_1['flights_amount'])"
   ]
  },
  {
   "cell_type": "markdown",
   "metadata": {},
   "source": [
    "**Вывод**\n",
    "\n",
    "модели самолетов можно четко разделить на две группы (в скобках указана вместимость):\n",
    "\n",
    "Boeing и Airbus 'Boeing 777-300'(550), 'Boeing 767-300'(375), 'Airbus A319-100'(124), 'Boeing 737-300'(149), 'Airbus A321-200'(200), - где рейсов не так много, а вместимость большая,\n",
    "\n",
    "и 'Sukhoi SuperJet-100' (103), 'Bombardier CRJ-200' (50), 'Cessna 208 Caravan(14)', где все наоборт - мест мало, рейсов много. \n",
    "\n",
    "Видимо модели из второй группы поставлены на те направления, куда нужны частые рейсы для небольшого потока пассажиров. В целом же они, возможно, перевозят одинаковое количесвто пассажиров."
   ]
  },
  {
   "cell_type": "code",
   "execution_count": 21,
   "metadata": {},
   "outputs": [
    {
     "name": "stdout",
     "output_type": "stream",
     "text": [
      "города и количество рейсов\n",
      "34 города с наименьшим количеством рейсов:\n",
      "['Благовещенск' 'Анадырь' 'Комсомольск-на-Амуре' 'Стрежевой' 'Нефтеюганск'\n",
      " 'Петропавловск-Камчатский' 'Усть-Кут' 'Ижевск' 'Братск' 'Иваново'\n",
      " 'Нягань' 'Усинск' 'Грозный' 'Кызыл' 'Липецк' 'Ярославль' 'Магадан'\n",
      " 'Горно-Алтайск' 'Псков' 'Чита' 'Орск' 'Улан-Удэ' 'Владикавказ' 'Мурманск'\n",
      " 'Белоярский' 'Урай' 'Кемерово' 'Ставрополь' 'Саранск' 'Воронеж'\n",
      " 'Салехард' 'Калуга' 'Череповец' 'Анапа']\n"
     ]
    },
    {
     "data": {
      "image/png": "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\n",
      "text/plain": [
       "<Figure size 2520x1080 with 1 Axes>"
      ]
     },
     "metadata": {
      "needs_background": "light"
     },
     "output_type": "display_data"
    },
    {
     "name": "stdout",
     "output_type": "stream",
     "text": [
      "33 города со средним количеством рейсов\n",
      "['Надым' 'Норильск' 'Курск' 'Астрахань' 'Калининград' 'Нерюнгри'\n",
      " 'Геленджик' 'Барнаул' 'Нарьян-Мар' 'Якутск' 'Усть-Илимск' 'Самара'\n",
      " 'Владивосток' 'Бугульма' 'Ноябрьск' 'Ухта' 'Нальчик' 'Удачный'\n",
      " 'Нижневартовск' 'Когалым' 'Махачкала' 'Омск' 'Курган' 'Минеральные Воды'\n",
      " 'Нижнекамск' 'Абакан' 'Краснодар' 'Пенза' 'Тамбов' 'Саратов'\n",
      " 'Магнитогорск' 'Сыктывкар' 'Томск']\n"
     ]
    },
    {
     "data": {
      "image/png": "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\n",
      "text/plain": [
       "<Figure size 2520x1080 with 1 Axes>"
      ]
     },
     "metadata": {
      "needs_background": "light"
     },
     "output_type": "display_data"
    },
    {
     "name": "stdout",
     "output_type": "stream",
     "text": [
      "33 города с максимальным количеством рейсов\n",
      "['Южно-Сахалинск' 'Йошкар-Ола' 'Воркута' 'Элиста' 'Чебоксары' 'Оренбург'\n",
      " 'Волгоград' 'Архангельск' 'Нижний Новгород' 'Петрозаводск' 'Белгород'\n",
      " 'Киров' 'Новокузнецк' 'Иркутск' 'Мирный' 'Уфа' 'Хабаровск' 'Челябинск'\n",
      " 'Тюмень' 'Казань' 'Новый Уренгой' 'Ханты-Мансийск' 'Сургут' 'Советский'\n",
      " 'Ульяновск' 'Сочи' 'Брянск' 'Пермь' 'Ростов-на-Дону' 'Екатеринбург'\n",
      " 'Красноярск' 'Новосибирск' 'Санкт-Петербург' 'Москва']\n"
     ]
    },
    {
     "data": {
      "image/png": "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\n",
      "text/plain": [
       "<Figure size 2520x1080 with 1 Axes>"
      ]
     },
     "metadata": {
      "needs_background": "light"
     },
     "output_type": "display_data"
    }
   ],
   "source": [
    "print('города и количество рейсов')\n",
    "#для наглядности отсортируем данные и оставим ylim одинаковым для каждого подграфика\n",
    "data_3 = data_3.sort_values('average_flights')\n",
    "\n",
    "print('34 города с наименьшим количеством рейсов:')\n",
    "top = data_3.iloc[:34]\n",
    "print(top['city'].values)\n",
    "plt.figure(figsize=(35,15))\n",
    "plt.ylim(min(data_3['average_flights']), max(data_3['average_flights']))\n",
    "plt.xlabel('Города')\n",
    "plt.ylabel('среднее количество рейсов')\n",
    "plt.grid()\n",
    "plt.bar(top['city'], height = top['average_flights'])\n",
    "plt.show()\n",
    "\n",
    "\n",
    "print('33 города со средним количеством рейсов')\n",
    "top = data_3.iloc[34:67]\n",
    "print(top['city'].values)\n",
    "plt.figure(figsize=(35,15))\n",
    "plt.ylim(min(data_3['average_flights']), max(data_3['average_flights']))\n",
    "plt.xlabel('Города')\n",
    "plt.ylabel('среднее количество рейсов')\n",
    "plt.grid()\n",
    "plt.bar(top['city'], height = top['average_flights'])\n",
    "plt.show()\n",
    "\n",
    "print('33 города с максимальным количеством рейсов')\n",
    "top = data_3.iloc[67:101]\n",
    "print(top['city'].values)\n",
    "plt.figure(figsize=(35,15))\n",
    "plt.ylim(min(data_3['average_flights']), max(data_3['average_flights']))\n",
    "plt.xlabel('Города')\n",
    "plt.ylabel('среднее количество рейсов')\n",
    "plt.grid()\n",
    "plt.bar(top['city'], height = top['average_flights'])\n",
    "plt.show()"
   ]
  },
  {
   "cell_type": "markdown",
   "metadata": {},
   "source": [
    "**Вывод**\n",
    "\n",
    "Есть города (1 график), в которые приходят крайне мало рейсов в сравнении с остальными. В города из второго графика и начала третьего - в среднем приходит от 5 до 15 рейсов за день в сентябре 2018 года. А вот города в конце 3 группы, и в особенности Новосибирск, Санкт-Петербург и Москва сильно выбиваются из этого ряда (в особенности Москва). Но это может быть связано не столько с проведением фестивалей, сколько со статусами городов, их значимостью и населением."
   ]
  },
  {
   "cell_type": "code",
   "execution_count": 22,
   "metadata": {},
   "outputs": [
    {
     "name": "stdout",
     "output_type": "stream",
     "text": [
      "топ-10 городов и количество рейсов\n",
      "['Москва' 'Санкт-Петербург' 'Новосибирск' 'Красноярск' 'Екатеринбург'\n",
      " 'Ростов-на-Дону' 'Пермь' 'Брянск' 'Сочи' 'Ульяновск']\n"
     ]
    },
    {
     "data": {
      "image/png": "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\n",
      "text/plain": [
       "<Figure size 2520x1080 with 1 Axes>"
      ]
     },
     "metadata": {
      "needs_background": "light"
     },
     "output_type": "display_data"
    }
   ],
   "source": [
    "print('топ-10 городов и количество рейсов')\n",
    "print(city_top['city'].values)\n",
    "plt.figure(figsize=(35,15))\n",
    "plt.xlabel('Города')\n",
    "plt.ylabel('среднее количество рейсов')\n",
    "plt.grid()\n",
    "plt.bar(city_top['city'], height = city_top['average_flights'])\n",
    "plt.show()"
   ]
  },
  {
   "cell_type": "markdown",
   "metadata": {},
   "source": [
    "И если Красноярск, Екатеринбург, Ростов-на-Дону, Пермь, Брянск, Сочи, Ульяновск близки по среднему количеству рейсов за день, то Новосибирск, Санкт-Петербург и Москва как важные транспортные узлы серьезно вырываются вперед"
   ]
  },
  {
   "cell_type": "markdown",
   "metadata": {},
   "source": [
    "<font color='blue'> \n",
    "### <u>КОММЕНТАРИЙ РЕВЬЮЕРА</u>\n",
    "</font>\n",
    "<font color='green'>\n",
    "Отличный графический и аналитический анализ) Выводы, действительно, очевидные. И тем приятнее видеть их подтврждение)))<br>"
   ]
  },
  {
   "cell_type": "markdown",
   "metadata": {},
   "source": [
    "# 2. Проверка гипотезы"
   ]
  },
  {
   "cell_type": "markdown",
   "metadata": {},
   "source": [
    "## 1. Загрузим и изучим данные"
   ]
  },
  {
   "cell_type": "code",
   "execution_count": 23,
   "metadata": {},
   "outputs": [
    {
     "name": "stdout",
     "output_type": "stream",
     "text": [
      "<class 'pandas.core.frame.DataFrame'>\n",
      "RangeIndex: 10 entries, 0 to 9\n",
      "Data columns (total 4 columns):\n",
      "week_number      10 non-null int64\n",
      "ticket_amount    10 non-null int64\n",
      "festival_week    3 non-null float64\n",
      "festival_name    3 non-null object\n",
      "dtypes: float64(1), int64(2), object(1)\n",
      "memory usage: 448.0+ bytes\n",
      "None\n"
     ]
    },
    {
     "data": {
      "text/html": [
       "<div>\n",
       "<style scoped>\n",
       "    .dataframe tbody tr th:only-of-type {\n",
       "        vertical-align: middle;\n",
       "    }\n",
       "\n",
       "    .dataframe tbody tr th {\n",
       "        vertical-align: top;\n",
       "    }\n",
       "\n",
       "    .dataframe thead th {\n",
       "        text-align: right;\n",
       "    }\n",
       "</style>\n",
       "<table border=\"1\" class=\"dataframe\">\n",
       "  <thead>\n",
       "    <tr style=\"text-align: right;\">\n",
       "      <th></th>\n",
       "      <th>week_number</th>\n",
       "      <th>ticket_amount</th>\n",
       "      <th>festival_week</th>\n",
       "      <th>festival_name</th>\n",
       "    </tr>\n",
       "  </thead>\n",
       "  <tbody>\n",
       "    <tr>\n",
       "      <td>0</td>\n",
       "      <td>30</td>\n",
       "      <td>43568</td>\n",
       "      <td>30.0</td>\n",
       "      <td>Park Live</td>\n",
       "    </tr>\n",
       "    <tr>\n",
       "      <td>1</td>\n",
       "      <td>31</td>\n",
       "      <td>51034</td>\n",
       "      <td>31.0</td>\n",
       "      <td>Пикник Афиши</td>\n",
       "    </tr>\n",
       "    <tr>\n",
       "      <td>2</td>\n",
       "      <td>32</td>\n",
       "      <td>51675</td>\n",
       "      <td>NaN</td>\n",
       "      <td>NaN</td>\n",
       "    </tr>\n",
       "    <tr>\n",
       "      <td>3</td>\n",
       "      <td>33</td>\n",
       "      <td>51378</td>\n",
       "      <td>NaN</td>\n",
       "      <td>NaN</td>\n",
       "    </tr>\n",
       "    <tr>\n",
       "      <td>4</td>\n",
       "      <td>34</td>\n",
       "      <td>51492</td>\n",
       "      <td>NaN</td>\n",
       "      <td>NaN</td>\n",
       "    </tr>\n",
       "    <tr>\n",
       "      <td>5</td>\n",
       "      <td>35</td>\n",
       "      <td>51360</td>\n",
       "      <td>NaN</td>\n",
       "      <td>NaN</td>\n",
       "    </tr>\n",
       "    <tr>\n",
       "      <td>6</td>\n",
       "      <td>36</td>\n",
       "      <td>51386</td>\n",
       "      <td>36.0</td>\n",
       "      <td>Видфест</td>\n",
       "    </tr>\n",
       "    <tr>\n",
       "      <td>7</td>\n",
       "      <td>37</td>\n",
       "      <td>51670</td>\n",
       "      <td>NaN</td>\n",
       "      <td>NaN</td>\n",
       "    </tr>\n",
       "    <tr>\n",
       "      <td>8</td>\n",
       "      <td>38</td>\n",
       "      <td>51518</td>\n",
       "      <td>NaN</td>\n",
       "      <td>NaN</td>\n",
       "    </tr>\n",
       "    <tr>\n",
       "      <td>9</td>\n",
       "      <td>39</td>\n",
       "      <td>51623</td>\n",
       "      <td>NaN</td>\n",
       "      <td>NaN</td>\n",
       "    </tr>\n",
       "  </tbody>\n",
       "</table>\n",
       "</div>"
      ],
      "text/plain": [
       "   week_number  ticket_amount  festival_week festival_name\n",
       "0           30          43568           30.0     Park Live\n",
       "1           31          51034           31.0  Пикник Афиши\n",
       "2           32          51675            NaN           NaN\n",
       "3           33          51378            NaN           NaN\n",
       "4           34          51492            NaN           NaN\n",
       "5           35          51360            NaN           NaN\n",
       "6           36          51386           36.0       Видфест\n",
       "7           37          51670            NaN           NaN\n",
       "8           38          51518            NaN           NaN\n",
       "9           39          51623            NaN           NaN"
      ]
     },
     "execution_count": 23,
     "metadata": {},
     "output_type": "execute_result"
    }
   ],
   "source": [
    "data = pd.read_csv('/datasets/query_last.csv')\n",
    "print(data.info())\n",
    "data"
   ]
  },
  {
   "cell_type": "markdown",
   "metadata": {},
   "source": [
    "У нас есть данные о 10 неделях, с указанием:\n",
    "\n",
    "week_number — номер недели;\n",
    "\n",
    "ticket_amount — количество проданных билетов за неделю;\n",
    "\n",
    "festival_week — есть ли на этой неделе фестиваль;\n",
    "\n",
    "festival_name — название фестиваля.\n",
    "\n",
    "Фестивали проходили в 3 недели из 10 - 30, 31 и 36"
   ]
  },
  {
   "cell_type": "markdown",
   "metadata": {},
   "source": [
    "## 2. Сформулируем нулевую и альтернативную гипотезы"
   ]
  },
  {
   "cell_type": "markdown",
   "metadata": {},
   "source": [
    "Необходимо проверить гипотезу: «Средний спрос на билеты во время фестивалей не отличается от среднего спроса на билеты в обычное время». В терминах статистики - средние двух генеральных совокупностей равны между собой.\n",
    "\n",
    "H₀ всегда формулируется так, чтобы использовать знак равенства. Поэтому наша H₀ будет звучать так, как в задании: **Средний спрос на билеты во время фестивалей не отличается от среднего спроса на билеты в обычное время**\n",
    "\n",
    "Исходя из H₀ формулируется альтернативная гипотеза H₁. Для этой H₀ она звучит как **Средний спрос на билеты во время фестивалей отличается от среднего спроса на билеты в обычное время**."
   ]
  },
  {
   "cell_type": "markdown",
   "metadata": {},
   "source": [
    "## 3. Спланируем проверку"
   ]
  },
  {
   "cell_type": "markdown",
   "metadata": {},
   "source": [
    "Чтобы проверить гипотезу о равенстве среднего двух генеральных совокупностей по взятым из них выборкам, применим метод scipy.stats.mannwhitneyu, так как данные не нормальные, и их мало.\n",
    "\n",
    "Критический уровень статистической значимости поставим в 5%: если p-value окажется меньше него - отвергнем гипотезу"
   ]
  },
  {
   "cell_type": "markdown",
   "metadata": {},
   "source": [
    "## 4. Проверим гипотезу"
   ]
  },
  {
   "cell_type": "code",
   "execution_count": 24,
   "metadata": {},
   "outputs": [
    {
     "name": "stdout",
     "output_type": "stream",
     "text": [
      "p-значение: 0.03412374418900064\n",
      "Отвергаем нулевую гипотезу\n"
     ]
    }
   ],
   "source": [
    "with_fest = data[data['festival_week'].isna() == False]['ticket_amount']\n",
    "without_fest = data[data['festival_week'].isna()]['ticket_amount']\n",
    "\n",
    "alpha = .05\n",
    "results = st.mannwhitneyu(with_fest, without_fest)\n",
    "\n",
    "print('p-значение:', results.pvalue)\n",
    "\n",
    "if (results.pvalue < alpha):\n",
    "    print(\"Отвергаем нулевую гипотезу\")\n",
    "else:\n",
    "    print(\"Не получилось отвергнуть нулевую гипотезу\")"
   ]
  },
  {
   "cell_type": "markdown",
   "metadata": {},
   "source": [
    "Полученное значение p-value говорит о том, что cредний спрос на билеты во время фестивалей отличается от среднего спроса на билеты в обычное время, с вероятностью в всего 3% такое или большее различие можно получить случайно. Это маленькая вероятность, поэтому мы можем отвергнуть нулевую гипотезу. Вероятнее, что средний спрос на билеты во время фестивалей все же отличается от среднего спроса на билеты в обычное время."
   ]
  },
  {
   "cell_type": "markdown",
   "metadata": {},
   "source": [
    "# Вывод\n",
    "\n",
    "При исследовании данных об авиаперевозках выснилось, что спрос зависит от пункта назначения, модели самолета, а также повышается при прохождении крупных культурных фестивалей"
   ]
  },
  {
   "cell_type": "markdown",
   "metadata": {},
   "source": [
    "<font color='blue'> \n",
    "### <u>КОММЕНТАРИЙ РЕВЬЮЕРА</u>\n",
    "</font>\n",
    "<font color='green'>\n",
    "Алёна, действительно, работа на фоне других проектов кажется детским садом, вспомнить например, сборный проект после второго спринта)<br>\n",
    "тут всё понятно. Комментировать нечего. ВОзможно, о проверке гипотез стоит ещё раз поговорить.<br>\n",
    "    \n",
    "Ты верно применила технику сравнения групп. Есть тест, есть р-уровень. Если р-уровень меньше 0.05 , то мы гворим, что средние значения в группах статистически различаются. Т.е. мы можем сказать, что одна группа отличается от другой.<br>  \n",
    "    \n",
    "При этом у нас данных совсем мало 7 и 3 строк в группах сравнения.<br>\n",
    "И тогда вопрос: на сколько можно доверять статистическим выводам?<br>    \n",
    "Дело в том, что данная функция сравнения групп = st.ttest_ind - справедлива (читаем так: последующему выводу можно доверять) только в том случае, когда данные в подгруппах распределены нормально (и данных должно быть ну более 20-30 хотя бы для каждой группы). Если данные - не нормальные (или их мало как в нашем случае),то правильнее использовать метод непараметрической статистики - фукнцию mannwhitneyu (она как раз использует расчёт по медианам, когда данных мало).<br><br>\n",
    "Какие последствия от неправильного использования методов сравнения двух групп? Почему важно понимать нормальность/ненормльность сравниваемых групп?<br>\n",
    "А потому, что Можно сделать ложные выводы. А значит неверные управленческие решения.<br><br>\n",
    "Это легко увидеть это на медицинском примере: ведь принятие решения о выводе лекарства на рынок (нового метода лечения) принимают именно используя эти техники, изучая две группы пациентов. И вот, скажем, метод расчёта показал, что гипотеза не подтвердилась - т.е. средние значени давления (допустим лекарство для снижения давления) в группах разные, т.е. лекарство реально помагает людям. И решили начать запуск лекарства на рынок. Но, т.к. использовали не тот метод анализа, вывод оказался ложным:(((<br>\n",
    "т.е. не помогает оно на самом деле....<br><br>\n",
    " \n",
    "Это я к тому, что вопрос достаточно серьёзный, по поводу использования техник сравнения групп между собой и принятия решения о разности между группами.<br>\n",
    "И если предстоит занимтаься эти вопросом в Вашей деятельности в будущем, то лучше глубже изучить этот вопрос, чтобы на практике быть настоящим с точки зрения статистических расчётов.<br>\n",
    "Ведь всё решает аналитик:))) А значит и ответственность тоже берёт на себя)))\n",
    "\n",
    "ВОт, например, если использовать маннауитни в этой задаче, то выводы будут иными. Там критерий покажет, что статистически будут основания отвергнуть гипотезу. Т.е. спрос отличается в периоды проведения и не проведения фестивалей и управленческие выводы - уже иные могут быть.<br>\n",
    "    \n",
    "Скорее всего, для бизнеса тут более провильно будет ответить так: данных мало, что быть уверенным в выодах на 100%, но есть подозрения, что спрос отличается в изучаемые периоды и дополниетльный сбор данных сможет это подтвердить.<br>\n",
    "\n",
    "<font color='red'>    \n",
    "Есть ли у тебя вопросы по теме проверки гипотез?"
   ]
  },
  {
   "cell_type": "markdown",
   "metadata": {},
   "source": [
    "Привет, я переделала с функцией, которую ты подсказал. \n",
    "\n",
    "Агааа, и тут свои подводные камни. Вопрос такой: на что еще нужно обращать внимание при проверки гипотез? (я понимаю, что на ВСЁ, но хотя бы из глобального, а то я здесь про нормальность данных даже не подумала)."
   ]
  },
  {
   "cell_type": "markdown",
   "metadata": {},
   "source": [
    "<font color='blue'> \n",
    "### <u>КОММЕНТАРИЙ РЕВЬЮЕРА</u>\n",
    "</font>\n",
    "<font color='green'>\n",
    "Алёна,привет!<br>\n",
    "Спасибо за вопросы))<br>\n",
    "тут такие моменты:<br>\n",
    "Самое первое: а какая задача у нас?<br>\n",
    "Потом смотришь, в каких шкалах собрана информация о решаемой задаче?<br>\n",
    "Потому что, тип шкалы данных: влияет на вид анализа - т.е. каким методом пользоваться:<br>\n",
    "\n",
    "- колличественная-колличественная: аналитически методод - корреляции, графический - скатерплот.<br>\n",
    "- колличественная-номинальная: аналитически методод - проверка гипотез (стьюдент, маннауитни), графический - боксплот.<br>\n",
    "- номинальная-номинальная: аналитически методод - Хи-квадрат, графический - круговая диаграмма<br><br>БикЮ\n",
    " \n",
    "в этом прокте ты пользовалась разделом \"колличественная-номинальная\".<br>\n",
    "В общем-то алгоритм использования даже и описал (нормальность там..).\n",
    "    \n",
    "По другим методам анализа - есть свои  \"подводные\" камни, как ты говоришь)<br>\n",
    "Сейчас вряд ли , даже если их озвучу, \"ляжет\" это.<br>    \n",
    "Могу посоветовать очень классную книгу по этой теме.<br>\n",
    "Гланц \"Медико-биологическая статистика\". Там всё просто и на жизненных примерах расписана данная тема.<br>\n",
    "Там минимум математики и максимум жизни. Поэтому, после неё ты сможешь быть в этой теме максимально эрудированной.<br>\n",
    "    \n",
    "УСПЕШНОГО ДАЛЬНЕЙШЕГО ОБУЧЕНИЯ.\n",
    " "
   ]
  },
  {
   "cell_type": "markdown",
   "metadata": {},
   "source": [
    "# Чек-лист проверки"
   ]
  },
  {
   "cell_type": "markdown",
   "metadata": {},
   "source": [
    "- [x]  Jupyter Notebook открыт\n",
    "- [x]  Весь код выполняется без ошибок\n",
    "- [x]  Ячейки с кодом расположены в порядке исполнения\n",
    "- [x]  Файлы изучены\n",
    "- [x]  Типы данных проверены на корректность\n",
    "- [x]  Выбран топ-10 городов по количеству рейсов\n",
    "- [x]  Построен график «Модели самолётов и количество рейсов»\n",
    "- [x]  Построен график «Города и количество рейсов»\n",
    "- [x]  Построен график «Топ-10 городов и количество рейсов»\n",
    "- [x]  Проверена гипотеза «Средний спрос на билеты во время фестивалей не отличается от среднего спроса на билеты в обычное время»\n",
    "- [x]  Есть пояснение «Как вы формулировали нулевую и альтернативную гипотезы»\n",
    "- [x]  Есть пояснение «Какой критерий использовали для проверки гипотез и почему»\n",
    "- [x]  На каждом этапе написаны выводы\n",
    "- [x]  Написан общий вывод"
   ]
  },
  {
   "cell_type": "code",
   "execution_count": null,
   "metadata": {},
   "outputs": [],
   "source": []
  }
 ],
 "metadata": {
  "kernelspec": {
   "display_name": "Python 3",
   "language": "python",
   "name": "python3"
  },
  "language_info": {
   "codemirror_mode": {
    "name": "ipython",
    "version": 3
   },
   "file_extension": ".py",
   "mimetype": "text/x-python",
   "name": "python",
   "nbconvert_exporter": "python",
   "pygments_lexer": "ipython3",
   "version": "3.7.6"
  }
 },
 "nbformat": 4,
 "nbformat_minor": 2
}
