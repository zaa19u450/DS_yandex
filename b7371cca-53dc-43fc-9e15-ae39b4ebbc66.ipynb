{
 "cells": [
  {
   "cell_type": "markdown",
   "metadata": {},
   "source": [
    "<div style=\"border:solid green 2px; padding: 20px\"> <h1 style=\"color:green; margin-bottom:20px\">Комментарий наставника</h1>\n",
    "\n",
    "Привет! Спасибо, что сдала задание:) Ты проделала большую работу. Далее в файле мои комментарии ты сможешь найти в ячейках, аналогичных данной ( если рамки комментария зелёные - всё сделано правильно; жёлтые - есть замечания, но не критично; красные - нужно переделать). Не удаляй эти комментарии и постарайся учесть их в ходе выполнения проекта. \n",
    "\n",
    "</div>"
   ]
  },
  {
   "cell_type": "markdown",
   "metadata": {},
   "source": [
    "# Исследование объявлений о продаже квартир\n",
    "\n",
    "В вашем распоряжении данные сервиса Яндекс.Недвижимость — архив объявлений о продаже квартир в Санкт-Петербурге и соседних населённых пунктов за несколько лет. Нужно научиться определять рыночную стоимость объектов недвижимости. Ваша задача — установить параметры. Это позволит построить автоматизированную систему: она отследит аномалии и мошенническую деятельность. \n",
    "\n",
    "По каждой квартире на продажу доступны два вида данных. Первые вписаны пользователем, вторые — получены автоматически на основе картографических данных. Например, расстояние до центра, аэропорта, ближайшего парка и водоёма. "
   ]
  },
  {
   "cell_type": "markdown",
   "metadata": {},
   "source": [
    "### Шаг 1. Откройте файл с данными и изучите общую информацию. "
   ]
  },
  {
   "cell_type": "markdown",
   "metadata": {},
   "source": [
    "Импортируем библиотеку pandas, откроем файл с данными, сохраним таблицу в переменной `data` и изучим его: методом `.info()` узнаем общую информацию о таблице, а методом `.head()` выведем 5 первых строк таблицы для лучшего понимания данных."
   ]
  },
  {
   "cell_type": "code",
   "execution_count": 206,
   "metadata": {},
   "outputs": [
    {
     "name": "stdout",
     "output_type": "stream",
     "text": [
      "<class 'pandas.core.frame.DataFrame'>\n",
      "RangeIndex: 23699 entries, 0 to 23698\n",
      "Data columns (total 1 columns):\n",
      "total_images\tlast_price\ttotal_area\tfirst_day_exposition\trooms\tceiling_height\tfloors_total\tliving_area\tfloor\tis_apartment\tstudio\topen_plan\tkitchen_area\tbalcony\tlocality_name\tairports_nearest\tcityCenters_nearest\tparks_around3000\tparks_nearest\tponds_around3000\tponds_nearest\tdays_exposition    23699 non-null object\n",
      "dtypes: object(1)\n",
      "memory usage: 185.3+ KB\n"
     ]
    },
    {
     "data": {
      "text/html": [
       "<div>\n",
       "<style scoped>\n",
       "    .dataframe tbody tr th:only-of-type {\n",
       "        vertical-align: middle;\n",
       "    }\n",
       "\n",
       "    .dataframe tbody tr th {\n",
       "        vertical-align: top;\n",
       "    }\n",
       "\n",
       "    .dataframe thead th {\n",
       "        text-align: right;\n",
       "    }\n",
       "</style>\n",
       "<table border=\"1\" class=\"dataframe\">\n",
       "  <thead>\n",
       "    <tr style=\"text-align: right;\">\n",
       "      <th></th>\n",
       "      <th>total_images\\tlast_price\\ttotal_area\\tfirst_day_exposition\\trooms\\tceiling_height\\tfloors_total\\tliving_area\\tfloor\\tis_apartment\\tstudio\\topen_plan\\tkitchen_area\\tbalcony\\tlocality_name\\tairports_nearest\\tcityCenters_nearest\\tparks_around3000\\tparks_nearest\\tponds_around3000\\tponds_nearest\\tdays_exposition</th>\n",
       "    </tr>\n",
       "  </thead>\n",
       "  <tbody>\n",
       "    <tr>\n",
       "      <td>0</td>\n",
       "      <td>20\\t13000000.0\\t108.0\\t2019-03-07T00:00:00\\t3\\...</td>\n",
       "    </tr>\n",
       "    <tr>\n",
       "      <td>1</td>\n",
       "      <td>7\\t3350000.0\\t40.4\\t2018-12-04T00:00:00\\t1\\t\\t...</td>\n",
       "    </tr>\n",
       "    <tr>\n",
       "      <td>2</td>\n",
       "      <td>10\\t5196000.0\\t56.0\\t2015-08-20T00:00:00\\t2\\t\\...</td>\n",
       "    </tr>\n",
       "    <tr>\n",
       "      <td>3</td>\n",
       "      <td>0\\t64900000.0\\t159.0\\t2015-07-24T00:00:00\\t3\\t...</td>\n",
       "    </tr>\n",
       "    <tr>\n",
       "      <td>4</td>\n",
       "      <td>2\\t10000000.0\\t100.0\\t2018-06-19T00:00:00\\t2\\t...</td>\n",
       "    </tr>\n",
       "  </tbody>\n",
       "</table>\n",
       "</div>"
      ],
      "text/plain": [
       "  total_images\\tlast_price\\ttotal_area\\tfirst_day_exposition\\trooms\\tceiling_height\\tfloors_total\\tliving_area\\tfloor\\tis_apartment\\tstudio\\topen_plan\\tkitchen_area\\tbalcony\\tlocality_name\\tairports_nearest\\tcityCenters_nearest\\tparks_around3000\\tparks_nearest\\tponds_around3000\\tponds_nearest\\tdays_exposition\n",
       "0  20\\t13000000.0\\t108.0\\t2019-03-07T00:00:00\\t3\\...                                                                                                                                                                                                                                                                  \n",
       "1  7\\t3350000.0\\t40.4\\t2018-12-04T00:00:00\\t1\\t\\t...                                                                                                                                                                                                                                                                  \n",
       "2  10\\t5196000.0\\t56.0\\t2015-08-20T00:00:00\\t2\\t\\...                                                                                                                                                                                                                                                                  \n",
       "3  0\\t64900000.0\\t159.0\\t2015-07-24T00:00:00\\t3\\t...                                                                                                                                                                                                                                                                  \n",
       "4  2\\t10000000.0\\t100.0\\t2018-06-19T00:00:00\\t2\\t...                                                                                                                                                                                                                                                                  "
      ]
     },
     "execution_count": 206,
     "metadata": {},
     "output_type": "execute_result"
    }
   ],
   "source": [
    "import pandas as pd\n",
    "data = pd.read_csv('/datasets/real_estate_data.csv')\n",
    "data.info() \n",
    "data.head()"
   ]
  },
  {
   "cell_type": "markdown",
   "metadata": {},
   "source": [
    "### Вывод"
   ]
  },
  {
   "cell_type": "markdown",
   "metadata": {},
   "source": [
    "В таблице 23699 записей о квртирах, для каждой записано:\n",
    "\n",
    "\n",
    "airports_nearest — расстояние до ближайшего аэропорта в метрах (м)\n",
    "\n",
    "balcony — число балконов\n",
    "\n",
    "ceiling_height — высота потолков (м)\n",
    "\n",
    "cityCenters_nearest — расстояние до центра города (м)\n",
    "\n",
    "days_exposition — сколько дней было размещено объявление (от публикации до снятия)\n",
    "\n",
    "first_day_exposition — дата публикации\n",
    "\n",
    "floor — этаж\n",
    "\n",
    "floors_total — всего этажей в доме\n",
    "\n",
    "is_apartment — апартаменты (булев тип)\n",
    "\n",
    "kitchen_area — площадь кухни в квадратных метрах (м²)\n",
    "\n",
    "last_price — цена на момент снятия с публикации\n",
    "\n",
    "living_area — жилая площадь в квадратных метрах(м²)\n",
    "\n",
    "locality_name — название населённого пункта\n",
    "\n",
    "open_plan — свободная планировка (булев тип)\n",
    "\n",
    "parks_around3000 — число парков в радиусе 3 км\n",
    "\n",
    "parks_nearest — расстояние до ближайшего парка (м)\n",
    "\n",
    "ponds_around3000 — число водоёмов в радиусе 3 км\n",
    "\n",
    "ponds_nearest — расстояние до ближайшего водоёма (м)\n",
    "\n",
    "rooms — число комнат\n",
    "\n",
    "studio — квартира-студия (булев тип)\n",
    "\n",
    "total_area — площадь квартиры в квадратных метрах (м²)\n",
    "\n",
    "total_images — число фотографий квартиры в объявлении\n",
    "\n",
    "Но данные склеились в одну строку вместо того, чтобы разбиться по колонкам. Это произошло из-за разделителей в формате csv."
   ]
  },
  {
   "cell_type": "markdown",
   "metadata": {},
   "source": [
    "<div style=\"border:solid green 2px; padding: 20px\"> <h1 style=\"color:green; margin-bottom:20px\">Комментарий наставника</h1>\n",
    "\n",
    "Данные загружены и изучены, класс"
   ]
  },
  {
   "cell_type": "markdown",
   "metadata": {},
   "source": [
    "### Шаг 2. Предобработка данных"
   ]
  },
  {
   "cell_type": "markdown",
   "metadata": {},
   "source": [
    "Сначала приведем таблицу к нормальному виду, указав, какими символами разделять колонки в параметрах функции read_csv() (параметром sep)\n"
   ]
  },
  {
   "cell_type": "code",
   "execution_count": 207,
   "metadata": {},
   "outputs": [
    {
     "data": {
      "text/html": [
       "<div>\n",
       "<style scoped>\n",
       "    .dataframe tbody tr th:only-of-type {\n",
       "        vertical-align: middle;\n",
       "    }\n",
       "\n",
       "    .dataframe tbody tr th {\n",
       "        vertical-align: top;\n",
       "    }\n",
       "\n",
       "    .dataframe thead th {\n",
       "        text-align: right;\n",
       "    }\n",
       "</style>\n",
       "<table border=\"1\" class=\"dataframe\">\n",
       "  <thead>\n",
       "    <tr style=\"text-align: right;\">\n",
       "      <th></th>\n",
       "      <th>total_images</th>\n",
       "      <th>last_price</th>\n",
       "      <th>total_area</th>\n",
       "      <th>first_day_exposition</th>\n",
       "      <th>rooms</th>\n",
       "      <th>ceiling_height</th>\n",
       "      <th>floors_total</th>\n",
       "      <th>living_area</th>\n",
       "      <th>floor</th>\n",
       "      <th>is_apartment</th>\n",
       "      <th>...</th>\n",
       "      <th>kitchen_area</th>\n",
       "      <th>balcony</th>\n",
       "      <th>locality_name</th>\n",
       "      <th>airports_nearest</th>\n",
       "      <th>cityCenters_nearest</th>\n",
       "      <th>parks_around3000</th>\n",
       "      <th>parks_nearest</th>\n",
       "      <th>ponds_around3000</th>\n",
       "      <th>ponds_nearest</th>\n",
       "      <th>days_exposition</th>\n",
       "    </tr>\n",
       "  </thead>\n",
       "  <tbody>\n",
       "    <tr>\n",
       "      <td>0</td>\n",
       "      <td>20</td>\n",
       "      <td>13000000.0</td>\n",
       "      <td>108.0</td>\n",
       "      <td>2019-03-07T00:00:00</td>\n",
       "      <td>3</td>\n",
       "      <td>2.7</td>\n",
       "      <td>16.0</td>\n",
       "      <td>51.0</td>\n",
       "      <td>8</td>\n",
       "      <td>NaN</td>\n",
       "      <td>...</td>\n",
       "      <td>25.0</td>\n",
       "      <td>nan</td>\n",
       "      <td>Санкт-Петербург</td>\n",
       "      <td>18863.0</td>\n",
       "      <td>16028.0</td>\n",
       "      <td>1.0</td>\n",
       "      <td>482.0</td>\n",
       "      <td>2.0</td>\n",
       "      <td>755.0</td>\n",
       "      <td>nan</td>\n",
       "    </tr>\n",
       "    <tr>\n",
       "      <td>1</td>\n",
       "      <td>7</td>\n",
       "      <td>3350000.0</td>\n",
       "      <td>40.4</td>\n",
       "      <td>2018-12-04T00:00:00</td>\n",
       "      <td>1</td>\n",
       "      <td>nan</td>\n",
       "      <td>11.0</td>\n",
       "      <td>18.6</td>\n",
       "      <td>1</td>\n",
       "      <td>NaN</td>\n",
       "      <td>...</td>\n",
       "      <td>11.0</td>\n",
       "      <td>2.0</td>\n",
       "      <td>посёлок Шушары</td>\n",
       "      <td>12817.0</td>\n",
       "      <td>18603.0</td>\n",
       "      <td>0.0</td>\n",
       "      <td>nan</td>\n",
       "      <td>0.0</td>\n",
       "      <td>nan</td>\n",
       "      <td>81.0</td>\n",
       "    </tr>\n",
       "    <tr>\n",
       "      <td>2</td>\n",
       "      <td>10</td>\n",
       "      <td>5196000.0</td>\n",
       "      <td>56.0</td>\n",
       "      <td>2015-08-20T00:00:00</td>\n",
       "      <td>2</td>\n",
       "      <td>nan</td>\n",
       "      <td>5.0</td>\n",
       "      <td>34.3</td>\n",
       "      <td>4</td>\n",
       "      <td>NaN</td>\n",
       "      <td>...</td>\n",
       "      <td>8.3</td>\n",
       "      <td>0.0</td>\n",
       "      <td>Санкт-Петербург</td>\n",
       "      <td>21741.0</td>\n",
       "      <td>13933.0</td>\n",
       "      <td>1.0</td>\n",
       "      <td>90.0</td>\n",
       "      <td>2.0</td>\n",
       "      <td>574.0</td>\n",
       "      <td>558.0</td>\n",
       "    </tr>\n",
       "    <tr>\n",
       "      <td>3</td>\n",
       "      <td>0</td>\n",
       "      <td>64900000.0</td>\n",
       "      <td>159.0</td>\n",
       "      <td>2015-07-24T00:00:00</td>\n",
       "      <td>3</td>\n",
       "      <td>nan</td>\n",
       "      <td>14.0</td>\n",
       "      <td>nan</td>\n",
       "      <td>9</td>\n",
       "      <td>NaN</td>\n",
       "      <td>...</td>\n",
       "      <td>nan</td>\n",
       "      <td>0.0</td>\n",
       "      <td>Санкт-Петербург</td>\n",
       "      <td>28098.0</td>\n",
       "      <td>6800.0</td>\n",
       "      <td>2.0</td>\n",
       "      <td>84.0</td>\n",
       "      <td>3.0</td>\n",
       "      <td>234.0</td>\n",
       "      <td>424.0</td>\n",
       "    </tr>\n",
       "    <tr>\n",
       "      <td>4</td>\n",
       "      <td>2</td>\n",
       "      <td>10000000.0</td>\n",
       "      <td>100.0</td>\n",
       "      <td>2018-06-19T00:00:00</td>\n",
       "      <td>2</td>\n",
       "      <td>3.0</td>\n",
       "      <td>14.0</td>\n",
       "      <td>32.0</td>\n",
       "      <td>13</td>\n",
       "      <td>NaN</td>\n",
       "      <td>...</td>\n",
       "      <td>41.0</td>\n",
       "      <td>nan</td>\n",
       "      <td>Санкт-Петербург</td>\n",
       "      <td>31856.0</td>\n",
       "      <td>8098.0</td>\n",
       "      <td>2.0</td>\n",
       "      <td>112.0</td>\n",
       "      <td>1.0</td>\n",
       "      <td>48.0</td>\n",
       "      <td>121.0</td>\n",
       "    </tr>\n",
       "  </tbody>\n",
       "</table>\n",
       "<p>5 rows × 22 columns</p>\n",
       "</div>"
      ],
      "text/plain": [
       "   total_images  last_price  total_area first_day_exposition  rooms  \\\n",
       "0            20  13000000.0       108.0  2019-03-07T00:00:00      3   \n",
       "1             7   3350000.0        40.4  2018-12-04T00:00:00      1   \n",
       "2            10   5196000.0        56.0  2015-08-20T00:00:00      2   \n",
       "3             0  64900000.0       159.0  2015-07-24T00:00:00      3   \n",
       "4             2  10000000.0       100.0  2018-06-19T00:00:00      2   \n",
       "\n",
       "   ceiling_height  floors_total  living_area  floor is_apartment  ...  \\\n",
       "0             2.7          16.0         51.0      8          NaN  ...   \n",
       "1             nan          11.0         18.6      1          NaN  ...   \n",
       "2             nan           5.0         34.3      4          NaN  ...   \n",
       "3             nan          14.0          nan      9          NaN  ...   \n",
       "4             3.0          14.0         32.0     13          NaN  ...   \n",
       "\n",
       "   kitchen_area  balcony    locality_name  airports_nearest  \\\n",
       "0          25.0      nan  Санкт-Петербург           18863.0   \n",
       "1          11.0      2.0   посёлок Шушары           12817.0   \n",
       "2           8.3      0.0  Санкт-Петербург           21741.0   \n",
       "3           nan      0.0  Санкт-Петербург           28098.0   \n",
       "4          41.0      nan  Санкт-Петербург           31856.0   \n",
       "\n",
       "  cityCenters_nearest  parks_around3000  parks_nearest  ponds_around3000  \\\n",
       "0             16028.0               1.0          482.0               2.0   \n",
       "1             18603.0               0.0            nan               0.0   \n",
       "2             13933.0               1.0           90.0               2.0   \n",
       "3              6800.0               2.0           84.0               3.0   \n",
       "4              8098.0               2.0          112.0               1.0   \n",
       "\n",
       "   ponds_nearest  days_exposition  \n",
       "0          755.0              nan  \n",
       "1            nan             81.0  \n",
       "2          574.0            558.0  \n",
       "3          234.0            424.0  \n",
       "4           48.0            121.0  \n",
       "\n",
       "[5 rows x 22 columns]"
      ]
     },
     "execution_count": 207,
     "metadata": {},
     "output_type": "execute_result"
    }
   ],
   "source": [
    "data = pd.read_csv('/datasets/real_estate_data.csv', sep='\\t')\n",
    "data.head()"
   ]
  },
  {
   "cell_type": "markdown",
   "metadata": {},
   "source": [
    "## Обработка пропусков"
   ]
  },
  {
   "cell_type": "markdown",
   "metadata": {},
   "source": [
    "Посмотрим, в каких столбцах есть пропуски сочетанием методов `.isnull().sum()`"
   ]
  },
  {
   "cell_type": "code",
   "execution_count": 208,
   "metadata": {},
   "outputs": [
    {
     "data": {
      "text/plain": [
       "total_images                0\n",
       "last_price                  0\n",
       "total_area                  0\n",
       "first_day_exposition        0\n",
       "rooms                       0\n",
       "ceiling_height           9195\n",
       "floors_total               86\n",
       "living_area              1903\n",
       "floor                       0\n",
       "is_apartment            20924\n",
       "studio                      0\n",
       "open_plan                   0\n",
       "kitchen_area             2278\n",
       "balcony                 11519\n",
       "locality_name              49\n",
       "airports_nearest         5542\n",
       "cityCenters_nearest      5519\n",
       "parks_around3000         5518\n",
       "parks_nearest           15620\n",
       "ponds_around3000         5518\n",
       "ponds_nearest           14589\n",
       "days_exposition          3181\n",
       "dtype: int64"
      ]
     },
     "execution_count": 208,
     "metadata": {},
     "output_type": "execute_result"
    }
   ],
   "source": [
    "data.isnull().sum()"
   ]
  },
  {
   "cell_type": "markdown",
   "metadata": {},
   "source": [
    "Сначала разберемся с пропусками в столбце с числом балконов `balcony`. Если человек не указал число балконов — скорее всего, их нет. Такие пропуски правильно заменить на 0. Сделаем это методом `.fillna()` и проверим успешность замены сочетанием методов `.isnull().sum()`"
   ]
  },
  {
   "cell_type": "code",
   "execution_count": 209,
   "metadata": {},
   "outputs": [
    {
     "data": {
      "text/plain": [
       "0"
      ]
     },
     "execution_count": 209,
     "metadata": {},
     "output_type": "execute_result"
    }
   ],
   "source": [
    "data['balcony'] = data['balcony'].fillna(0)\n",
    "data['balcony'].isnull().sum()"
   ]
  },
  {
   "cell_type": "markdown",
   "metadata": {},
   "source": [
    "Теперь посмотрим на столбец `days_exposition`, где указано, сколько дней было размещено объявление (от публикации до снятия). В нем 3181 пропуск, однаков столбце `first_day_exposition` с датой публикации нет ни одного пропуска. Возможно, пропуски в столбце `days_exposition` обусловлены тем, что объявления до сих пор активны. Проверим эту гипотезу: создадим Series data_series, в который запишем данные столбца `days_exposition` таблицы data, а вместо пропущенных значений запишем разницу между сегодняшней датой (datetime.datetime.now()) и датой публикации (столбец  `first_day_exposition`). Предварительно переведем значения столбца `first_day_exposition` в формат даты (время не играет решающей роли, так как везде указаны просто нули). После указанных действий сравним среднние по стобцу `days_exposition` таблицы data и полученному Series data_series"
   ]
  },
  {
   "cell_type": "code",
   "execution_count": 210,
   "metadata": {},
   "outputs": [
    {
     "name": "stdout",
     "output_type": "stream",
     "text": [
      "180.88863436982163\n",
      "6267128675755512.0\n"
     ]
    }
   ],
   "source": [
    "from datetime import datetime\n",
    "data['first_day_exposition'] = pd.to_datetime(data['first_day_exposition'], format='%Y-%m-%d')\n",
    "pd.set_option('display.float_format', lambda x: '%.1f' % x)\n",
    "data_series = data['days_exposition'].fillna(datetime.now() - data['first_day_exposition'])\n",
    "print(data['days_exposition'].mean())\n",
    "print(data_series.mean())"
   ]
  },
  {
   "cell_type": "markdown",
   "metadata": {},
   "source": [
    "Разница колоссальна, а значит гипотеза не подтвердилась. Поэтому правильней оставить пустые  значения  столбца `days_exposition` пустыми"
   ]
  },
  {
   "cell_type": "markdown",
   "metadata": {},
   "source": [
    "Оставшиеся пустые значения в столбцах в количественными данными - \n",
    "ceiling_height — высота потолков, \n",
    "floors_total — всего этажей в доме,\n",
    "living_area — жилая площадь в квадратных метрах,  \n",
    "kitchen_area — площадь кухни,\n",
    "cityCenters_nearest — расстояние до центра города, \n",
    "airports_nearest — расстояние до ближайшего аэропорта,\n",
    "parks_around3000 — число парков в радиусе 3 км,\n",
    "parks_nearest — расстояние до ближайшего парка (м),\n",
    "ponds_around3000 — число водоёмов в радиусе 3 км,\n",
    "ponds_nearest — расстояние до ближайшего водоёма (м);\n",
    "а тем более с качественными данными -  \n",
    "locality_name — название населённого пункта,\n",
    "is_apartment — апартаменты (булев тип),\n",
    "нельзя заменить ни на средние по столбцам, ни нулями, ведь они являются индивидуальными для каждой квартиры и сильно влияют на результаты анализа. Пропуски в этих стобцах могли появиться из-за того, что продавцы забыли/не хотят указывать некоторые данные во избежание мошенничества, или из-за ошибок в алгоритмах автоматического подсчета значений, или из-за мошенничества.Более того, некоторые столбцы получены автоматически на основе картографических данных, а пропуски в этих стобцах заставляют закладывают сомнения в том, что это не мошенники. "
   ]
  },
  {
   "cell_type": "markdown",
   "metadata": {},
   "source": [
    "Просто избавиться от всех этих пропусков тоже не получится-так мы потеряем огромную часть данных\n",
    "Поэтому правильней будет отбросить строки с пропусками в столбце `floors_total` (их доля всего 86/23699 = 0.004), а остальные  пустые значения в этих столбцах оставить пустыми и учесть это при дальнейшем анализе."
   ]
  },
  {
   "cell_type": "code",
   "execution_count": 211,
   "metadata": {},
   "outputs": [],
   "source": [
    "data = data.drop(data[data['floors_total'].isna()].index).reset_index(drop = True)"
   ]
  },
  {
   "cell_type": "markdown",
   "metadata": {},
   "source": [
    "### Вывод"
   ]
  },
  {
   "cell_type": "markdown",
   "metadata": {},
   "source": [
    "Удалось избавиться от пропусков в столбцах 'balcony' и 'floors_total' без особой потери данных, пропуски в оставшихся столбцах придется учитывать при дальнейшем анализе."
   ]
  },
  {
   "cell_type": "markdown",
   "metadata": {},
   "source": [
    "<div style=\"border:solid green 2px; padding: 20px\"> <h1 style=\"color:green; margin-bottom:20px\">Комментарий наставника</h1>\n",
    "\n",
    "Всё верно"
   ]
  },
  {
   "cell_type": "markdown",
   "metadata": {},
   "source": [
    "## Приведение данных к нужным типам"
   ]
  },
  {
   "cell_type": "markdown",
   "metadata": {},
   "source": [
    "Сначала посмотрим, какие типы данных представлены в таблице методом `.dtypes`"
   ]
  },
  {
   "cell_type": "code",
   "execution_count": 212,
   "metadata": {},
   "outputs": [
    {
     "data": {
      "text/plain": [
       "total_images                     int64\n",
       "last_price                     float64\n",
       "total_area                     float64\n",
       "first_day_exposition    datetime64[ns]\n",
       "rooms                            int64\n",
       "ceiling_height                 float64\n",
       "floors_total                   float64\n",
       "living_area                    float64\n",
       "floor                            int64\n",
       "is_apartment                    object\n",
       "studio                            bool\n",
       "open_plan                         bool\n",
       "kitchen_area                   float64\n",
       "balcony                        float64\n",
       "locality_name                   object\n",
       "airports_nearest               float64\n",
       "cityCenters_nearest            float64\n",
       "parks_around3000               float64\n",
       "parks_nearest                  float64\n",
       "ponds_around3000               float64\n",
       "ponds_nearest                  float64\n",
       "days_exposition                float64\n",
       "dtype: object"
      ]
     },
     "execution_count": 212,
     "metadata": {},
     "output_type": "execute_result"
    }
   ],
   "source": [
    "data.dtypes"
   ]
  },
  {
   "cell_type": "markdown",
   "metadata": {},
   "source": [
    "Данные в столбце `first_day_exposition` мы уже привели к формату дат. Количество этажей (столбец `floors_total`), число балконов (столбец `balcony`), число водоёмов в радиусе 3 км (столбец `ponds_around3000`), число парков в радиусе 3 км (столбец `parks_around3000`) могут быть только целыми, поэтому значения в указанных столбцах следует привести к типу `int64`. А столбец `is_apartment` — апартаменты, может принимать только два значения - Истина (является апартаментами) или Ложь (не является апартаментами), а значит этот столбец лучше привести к типу `bool`. Произведем указанные изменения с учетом того, что в стобцах остались пустые значения."
   ]
  },
  {
   "cell_type": "code",
   "execution_count": 213,
   "metadata": {},
   "outputs": [],
   "source": [
    "data.loc[data['floors_total'].notnull(), 'floors_total'] = data.loc[data['floors_total'].notnull(), 'floors_total'].apply(int)\n",
    "data['floors_total'] = data['floors_total'].astype('Int64')\n",
    "\n",
    "data.loc[data['balcony'].notnull(), 'balcony'] = data.loc[data['balcony'].notnull(), 'balcony'].apply(int)\n",
    "data['balcony'] = data['balcony'].astype('Int64')\n",
    "\n",
    "data.loc[data['ponds_around3000'].notnull(), 'ponds_around3000']\\\n",
    "= data.loc[data['ponds_around3000'].notnull(), 'ponds_around3000'].apply(int)\n",
    "data['ponds_around3000'] = data['ponds_around3000'].astype('Int64')\n",
    "\n",
    "data.loc[data['parks_around3000'].notnull(), 'parks_around3000']\\\n",
    "= data.loc[data['parks_around3000'].notnull(), 'parks_around3000'].apply(int)\n",
    "data['parks_around3000'] = data['parks_around3000'].astype('Int64')\n",
    "\n",
    "data.loc[data['is_apartment'].notnull(), 'is_apartment']\\\n",
    "= data.loc[data['is_apartment'].notnull(), 'is_apartment'].apply(bool)\n",
    "data['is_apartment'] = data['is_apartment'].astype('bool')"
   ]
  },
  {
   "cell_type": "markdown",
   "metadata": {},
   "source": [
    "посмотрим, какие типы данных представлены в таблице data теперь методом .dtypes и убедимся в успешности преобразований"
   ]
  },
  {
   "cell_type": "code",
   "execution_count": 214,
   "metadata": {},
   "outputs": [
    {
     "data": {
      "text/plain": [
       "total_images                     int64\n",
       "last_price                     float64\n",
       "total_area                     float64\n",
       "first_day_exposition    datetime64[ns]\n",
       "rooms                            int64\n",
       "ceiling_height                 float64\n",
       "floors_total                     Int64\n",
       "living_area                    float64\n",
       "floor                            int64\n",
       "is_apartment                      bool\n",
       "studio                            bool\n",
       "open_plan                         bool\n",
       "kitchen_area                   float64\n",
       "balcony                          Int64\n",
       "locality_name                   object\n",
       "airports_nearest               float64\n",
       "cityCenters_nearest            float64\n",
       "parks_around3000                 Int64\n",
       "parks_nearest                  float64\n",
       "ponds_around3000                 Int64\n",
       "ponds_nearest                  float64\n",
       "days_exposition                float64\n",
       "dtype: object"
      ]
     },
     "execution_count": 214,
     "metadata": {},
     "output_type": "execute_result"
    }
   ],
   "source": [
    "data.dtypes"
   ]
  },
  {
   "cell_type": "markdown",
   "metadata": {},
   "source": [
    "### Вывод"
   ]
  },
  {
   "cell_type": "markdown",
   "metadata": {},
   "source": [
    "Изменены типы данных в столбцах:\n",
    "`first_day_exposition` - формат дат. \n",
    "Количество этажей (столбец `floors_total`), число балконов (столбец `balcony`), число водоёмов в радиусе 3 км (столбец `ponds_around3000`), число парков в радиусе 3 км (столбец `parks_around3000`) - к типу `int64`. \n",
    "`is_apartment` — апартаменты -  к типу `bool`."
   ]
  },
  {
   "cell_type": "markdown",
   "metadata": {},
   "source": [
    "<div style=\"border:solid  green  2px; padding: 20px\"> <h1 style=\"color: green ; margin-bottom:20px\">Комментарий наставника</h1>\n",
    "\n",
    "Вся требуемая предобработка выполнена, всё логично и точно, продолжай в том же духе!)\n"
   ]
  },
  {
   "cell_type": "markdown",
   "metadata": {},
   "source": [
    "### Шаг 3. Посчитайте и добавьте в таблицу:"
   ]
  },
  {
   "cell_type": "markdown",
   "metadata": {},
   "source": [
    "#### цену квадратного метра"
   ]
  },
  {
   "cell_type": "markdown",
   "metadata": {},
   "source": [
    "Для этого создадим в таблице data новый столбец `price_per_meter`, в который для каждой квартиры запишем результат деления цены на общую площадь."
   ]
  },
  {
   "cell_type": "code",
   "execution_count": 215,
   "metadata": {},
   "outputs": [
    {
     "data": {
      "text/plain": [
       "0   120370.4\n",
       "1    82920.8\n",
       "2    92785.7\n",
       "3   408176.1\n",
       "4   100000.0\n",
       "Name: price_per_meter, dtype: float64"
      ]
     },
     "execution_count": 215,
     "metadata": {},
     "output_type": "execute_result"
    }
   ],
   "source": [
    "data['price_per_meter'] = data['last_price']/data['total_area']\n",
    "data['price_per_meter'].head(5)"
   ]
  },
  {
   "cell_type": "markdown",
   "metadata": {},
   "source": [
    "#### день недели, месяц и год публикации объявления"
   ]
  },
  {
   "cell_type": "markdown",
   "metadata": {},
   "source": [
    "Для этого создадим в таблице data новые столбцы `weekday`, `month`, `year`, в которые методами `dt.weekday`, `dt.month`, `dt.year` для каждой квартиры запишем день недели, месяц и год публикации объявления, соответственно."
   ]
  },
  {
   "cell_type": "code",
   "execution_count": 216,
   "metadata": {},
   "outputs": [
    {
     "data": {
      "text/html": [
       "<div>\n",
       "<style scoped>\n",
       "    .dataframe tbody tr th:only-of-type {\n",
       "        vertical-align: middle;\n",
       "    }\n",
       "\n",
       "    .dataframe tbody tr th {\n",
       "        vertical-align: top;\n",
       "    }\n",
       "\n",
       "    .dataframe thead th {\n",
       "        text-align: right;\n",
       "    }\n",
       "</style>\n",
       "<table border=\"1\" class=\"dataframe\">\n",
       "  <thead>\n",
       "    <tr style=\"text-align: right;\">\n",
       "      <th></th>\n",
       "      <th>weekday</th>\n",
       "      <th>month</th>\n",
       "      <th>year</th>\n",
       "    </tr>\n",
       "  </thead>\n",
       "  <tbody>\n",
       "    <tr>\n",
       "      <td>0</td>\n",
       "      <td>3</td>\n",
       "      <td>3</td>\n",
       "      <td>2019</td>\n",
       "    </tr>\n",
       "    <tr>\n",
       "      <td>1</td>\n",
       "      <td>1</td>\n",
       "      <td>12</td>\n",
       "      <td>2018</td>\n",
       "    </tr>\n",
       "    <tr>\n",
       "      <td>2</td>\n",
       "      <td>3</td>\n",
       "      <td>8</td>\n",
       "      <td>2015</td>\n",
       "    </tr>\n",
       "    <tr>\n",
       "      <td>3</td>\n",
       "      <td>4</td>\n",
       "      <td>7</td>\n",
       "      <td>2015</td>\n",
       "    </tr>\n",
       "    <tr>\n",
       "      <td>4</td>\n",
       "      <td>1</td>\n",
       "      <td>6</td>\n",
       "      <td>2018</td>\n",
       "    </tr>\n",
       "  </tbody>\n",
       "</table>\n",
       "</div>"
      ],
      "text/plain": [
       "   weekday  month  year\n",
       "0        3      3  2019\n",
       "1        1     12  2018\n",
       "2        3      8  2015\n",
       "3        4      7  2015\n",
       "4        1      6  2018"
      ]
     },
     "execution_count": 216,
     "metadata": {},
     "output_type": "execute_result"
    }
   ],
   "source": [
    "data['weekday'] = data['first_day_exposition'].dt.weekday\n",
    "data['month'] = data['first_day_exposition'].dt.month\n",
    "data['year'] = data['first_day_exposition'].dt.year\n",
    "data[['weekday', 'month', 'year']].head()"
   ]
  },
  {
   "cell_type": "markdown",
   "metadata": {},
   "source": [
    "### этаж квартиры; варианты — первый, последний, другой;"
   ]
  },
  {
   "cell_type": "markdown",
   "metadata": {},
   "source": [
    "Для этого напишем функцию `floor_category`, которая присваивает каждой квартире категорию этажа -первый/последний/другой. Эту функцию применим к таблице data, а результат сохраним в отдельном столбце `floor_category`"
   ]
  },
  {
   "cell_type": "code",
   "execution_count": 217,
   "metadata": {},
   "outputs": [
    {
     "data": {
      "text/plain": [
       "array(['другой', 'первый', 'последний'], dtype=object)"
      ]
     },
     "execution_count": 217,
     "metadata": {},
     "output_type": "execute_result"
    }
   ],
   "source": [
    "def floor_category(floor, floors_total):\n",
    "    if floor == 1:\n",
    "        return 'первый'\n",
    "    elif floor == floors_total:\n",
    "        return 'последний'\n",
    "    else:\n",
    "        return 'другой'\n",
    "data['floor_category'] = data.apply(lambda x: floor_category(x['floor'], x['floors_total']), axis=1)\n",
    "data['floor_category'].unique()                               "
   ]
  },
  {
   "cell_type": "markdown",
   "metadata": {},
   "source": [
    "### соотношение жилой и общей площади, а также отношение площади кухни к общей."
   ]
  },
  {
   "cell_type": "markdown",
   "metadata": {},
   "source": [
    "Для этого создадим в таблице data новый столбец `living_to_total`, в который для каждой квартиры запишем результат деления жилой площади на общую площадь, и новый столбец `kitchen_to_total`, в который для каждой квартиры запишем результат деления  площади кухни на общую площадь"
   ]
  },
  {
   "cell_type": "code",
   "execution_count": 218,
   "metadata": {},
   "outputs": [
    {
     "data": {
      "text/html": [
       "<div>\n",
       "<style scoped>\n",
       "    .dataframe tbody tr th:only-of-type {\n",
       "        vertical-align: middle;\n",
       "    }\n",
       "\n",
       "    .dataframe tbody tr th {\n",
       "        vertical-align: top;\n",
       "    }\n",
       "\n",
       "    .dataframe thead th {\n",
       "        text-align: right;\n",
       "    }\n",
       "</style>\n",
       "<table border=\"1\" class=\"dataframe\">\n",
       "  <thead>\n",
       "    <tr style=\"text-align: right;\">\n",
       "      <th></th>\n",
       "      <th>living_to_total</th>\n",
       "      <th>kitchen_to_total</th>\n",
       "    </tr>\n",
       "  </thead>\n",
       "  <tbody>\n",
       "    <tr>\n",
       "      <td>0</td>\n",
       "      <td>0.5</td>\n",
       "      <td>0.2</td>\n",
       "    </tr>\n",
       "    <tr>\n",
       "      <td>1</td>\n",
       "      <td>0.5</td>\n",
       "      <td>0.3</td>\n",
       "    </tr>\n",
       "    <tr>\n",
       "      <td>2</td>\n",
       "      <td>0.6</td>\n",
       "      <td>0.1</td>\n",
       "    </tr>\n",
       "    <tr>\n",
       "      <td>3</td>\n",
       "      <td>nan</td>\n",
       "      <td>nan</td>\n",
       "    </tr>\n",
       "    <tr>\n",
       "      <td>4</td>\n",
       "      <td>0.3</td>\n",
       "      <td>0.4</td>\n",
       "    </tr>\n",
       "  </tbody>\n",
       "</table>\n",
       "</div>"
      ],
      "text/plain": [
       "   living_to_total  kitchen_to_total\n",
       "0              0.5               0.2\n",
       "1              0.5               0.3\n",
       "2              0.6               0.1\n",
       "3              nan               nan\n",
       "4              0.3               0.4"
      ]
     },
     "execution_count": 218,
     "metadata": {},
     "output_type": "execute_result"
    }
   ],
   "source": [
    "data['living_to_total'] = data['living_area']/data['total_area']\n",
    "data['kitchen_to_total'] = data['kitchen_area']/data['total_area']\n",
    "data[['living_to_total', 'kitchen_to_total']].head()"
   ]
  },
  {
   "cell_type": "markdown",
   "metadata": {},
   "source": [
    "### Вывод"
   ]
  },
  {
   "cell_type": "markdown",
   "metadata": {},
   "source": [
    "В таблицу добавлены важные для анализа статистические столбцы-\n",
    "цена квадратного метра;\n",
    "день недели, месяц и год публикации объявления;\n",
    "этаж квартиры; варианты — первый, последний, другой;\n",
    "соотношение жилой и общей площади, а также отношение площади кухни к общей.### Вывод"
   ]
  },
  {
   "cell_type": "markdown",
   "metadata": {},
   "source": [
    "<div style=\"border:solid  green  2px; padding: 20px\"> <h1 style=\"color: green ; margin-bottom:20px\">Комментарий наставника</h1>\n",
    "\n",
    "Всё посчитано верно и добавлено в таблицу, продолжай в том же духе)"
   ]
  },
  {
   "cell_type": "markdown",
   "metadata": {},
   "source": [
    "### Шаг 4. Проведите исследовательский анализ данных и выполните инструкции:"
   ]
  },
  {
   "cell_type": "markdown",
   "metadata": {},
   "source": [
    "**Изучите следующие параметры: площадь, цена, число комнат, высота потолков. Постройте гистограммы для каждого параметра.**"
   ]
  },
  {
   "cell_type": "markdown",
   "metadata": {},
   "source": [
    "Сначала изучим общую площадь: построим гистограмму по столбцу data['total_area']. Также посмотрим диаграмму размаха методом boxplot() и список характерных значений столбца `total_area` методом `.describe`"
   ]
  },
  {
   "cell_type": "code",
   "execution_count": 219,
   "metadata": {},
   "outputs": [
    {
     "data": {
      "image/png": "[encoded data removed]",
      "text/plain": [
       "<Figure size 432x288 with 1 Axes>"
      ]
     },
     "metadata": {
      "needs_background": "light"
     },
     "output_type": "display_data"
    },
    {
     "data": {
      "text/plain": [
       "count   23613.0\n",
       "mean       60.3\n",
       "std        35.6\n",
       "min        12.0\n",
       "25%        40.0\n",
       "50%        52.0\n",
       "75%        69.8\n",
       "max       900.0\n",
       "Name: total_area, dtype: float64"
      ]
     },
     "execution_count": 219,
     "metadata": {},
     "output_type": "execute_result"
    },
    {
     "data": {
      "image/png": "[encoded data removed]",
      "text/plain": [
       "<Figure size 432x288 with 1 Axes>"
      ]
     },
     "metadata": {
      "needs_background": "light"
     },
     "output_type": "display_data"
    }
   ],
   "source": [
    "import matplotlib.pyplot as plt \n",
    "data['total_area'].hist(bins = 30)\n",
    "plt.show()\n",
    "plt.ylim(0, 1000)\n",
    "data.boxplot('total_area')\n",
    "data.describe()['total_area']"
   ]
  },
  {
   "cell_type": "markdown",
   "metadata": {},
   "source": [
    "Полученная гистограмма похожа по форме на распределение Пауссона, однако пик и значения около 0 слишком высоки. Нижний ус заканчивается минимальным значением 12 и есть много значений, гораздо превосходящих остальные и выходящих за верхний ус (площадь более 100 кв м). Но первый квартиль находится на уровне 40 кв м, а 3 -на 69.8 кв м, что похоже на правду."
   ]
  },
  {
   "cell_type": "code",
   "execution_count": 220,
   "metadata": {},
   "outputs": [
    {
     "data": {
      "image/png": "[encoded data removed]",
      "text/plain": [
       "<Figure size 432x288 with 1 Axes>"
      ]
     },
     "metadata": {
      "needs_background": "light"
     },
     "output_type": "display_data"
    },
    {
     "data": {
      "text/plain": [
       "<matplotlib.axes._subplots.AxesSubplot at 0x7feb415f0dd0>"
      ]
     },
     "execution_count": 220,
     "metadata": {},
     "output_type": "execute_result"
    },
    {
     "data": {
      "image/png": "[encoded data removed]",
      "text/plain": [
       "<Figure size 432x288 with 1 Axes>"
      ]
     },
     "metadata": {
      "needs_background": "light"
     },
     "output_type": "display_data"
    }
   ],
   "source": [
    "plt.ylim(100, 1000)\n",
    "data.boxplot('total_area')\n",
    "plt.show()\n",
    "plt.ylim(0, 100)\n",
    "data.boxplot('total_area')"
   ]
  },
  {
   "cell_type": "markdown",
   "metadata": {},
   "source": [
    "Да и среднее значение 60.3 и значение медианы (около 50) довольно близки, а значит необычно больших и необычно маленьких значений не сильно много. Однако для более стандартизированной статистике лучше избавиться от таких редких значений. Посчитаем количество квартир с плошадью более 150 или менее 30 кв м"
   ]
  },
  {
   "cell_type": "code",
   "execution_count": 221,
   "metadata": {},
   "outputs": [
    {
     "data": {
      "text/plain": [
       "1245"
      ]
     },
     "execution_count": 221,
     "metadata": {},
     "output_type": "execute_result"
    }
   ],
   "source": [
    "data[(data['total_area'] > 150) | (data['total_area'] < 30)]['total_area'].count()"
   ]
  },
  {
   "cell_type": "markdown",
   "metadata": {},
   "source": [
    "Их доля 1245/23613 = 0.05 невилика, поэтому избавление от таких значений не сильно скажется на охвате анализа, зато сделает статистику более стандартизированной. Избавимся от редких значений и изучим измененный столбец `total_area` в изменной таблице data"
   ]
  },
  {
   "cell_type": "code",
   "execution_count": 222,
   "metadata": {},
   "outputs": [],
   "source": [
    "data = data[(data['total_area'] < 150) & (data['total_area'] > 30)]"
   ]
  },
  {
   "cell_type": "code",
   "execution_count": 223,
   "metadata": {},
   "outputs": [
    {
     "data": {
      "image/png": "[encoded data removed]",
      "text/plain": [
       "<Figure size 432x288 with 1 Axes>"
      ]
     },
     "metadata": {
      "needs_background": "light"
     },
     "output_type": "display_data"
    },
    {
     "name": "stdout",
     "output_type": "stream",
     "text": [
      "count   22144.0\n",
      "mean       57.6\n",
      "std        22.5\n",
      "min        30.1\n",
      "25%        41.0\n",
      "50%        52.3\n",
      "75%        68.5\n",
      "max       149.6\n",
      "Name: total_area, dtype: float64\n"
     ]
    },
    {
     "data": {
      "text/plain": [
       "52.28"
      ]
     },
     "execution_count": 223,
     "metadata": {},
     "output_type": "execute_result"
    },
    {
     "data": {
      "image/png": "[encoded data removed]",
      "text/plain": [
       "<Figure size 432x288 with 1 Axes>"
      ]
     },
     "metadata": {
      "needs_background": "light"
     },
     "output_type": "display_data"
    }
   ],
   "source": [
    "data['total_area'].hist(bins = 30)\n",
    "plt.show()\n",
    "data.boxplot('total_area')\n",
    "print(data.describe()['total_area'])\n",
    "data['total_area'].median()"
   ]
  },
  {
   "cell_type": "markdown",
   "metadata": {},
   "source": [
    "Полученная гистограмма уже более близка к распределению Пауссона,медиана 52.28 и среднее занчение 57.6 почти совпадают а диаграмма размаха выглядит куда более реалистично. "
   ]
  },
  {
   "cell_type": "markdown",
   "metadata": {},
   "source": [
    "На всякий случай изучим в измененной таблице жилые площади и площади кухни"
   ]
  },
  {
   "cell_type": "code",
   "execution_count": 224,
   "metadata": {},
   "outputs": [
    {
     "data": {
      "text/plain": [
       "count   20369.0\n",
       "mean       10.3\n",
       "std         4.9\n",
       "min         2.0\n",
       "25%         7.1\n",
       "50%         9.1\n",
       "75%        11.8\n",
       "max        93.0\n",
       "Name: kitchen_area, dtype: float64"
      ]
     },
     "execution_count": 224,
     "metadata": {},
     "output_type": "execute_result"
    },
    {
     "data": {
      "image/png": "[encoded data removed]",
      "text/plain": [
       "<Figure size 432x288 with 1 Axes>"
      ]
     },
     "metadata": {
      "needs_background": "light"
     },
     "output_type": "display_data"
    }
   ],
   "source": [
    "data['kitchen_area'].hist(bins = 30)\n",
    "data.describe()['kitchen_area']"
   ]
  },
  {
   "cell_type": "code",
   "execution_count": 225,
   "metadata": {},
   "outputs": [
    {
     "data": {
      "text/plain": [
       "count   20430.0\n",
       "mean       32.9\n",
       "std        15.3\n",
       "min         2.0\n",
       "25%        19.0\n",
       "50%        30.1\n",
       "75%        42.0\n",
       "max       128.0\n",
       "Name: living_area, dtype: float64"
      ]
     },
     "execution_count": 225,
     "metadata": {},
     "output_type": "execute_result"
    },
    {
     "data": {
      "image/png": "[encoded data removed]",
      "text/plain": [
       "<Figure size 432x288 with 1 Axes>"
      ]
     },
     "metadata": {
      "needs_background": "light"
     },
     "output_type": "display_data"
    }
   ],
   "source": [
    "data['living_area'].hist(bins = 30)\n",
    "data.describe()['living_area']"
   ]
  },
  {
   "cell_type": "markdown",
   "metadata": {},
   "source": [
    "Эти столбцы с учетом разброса общей площади тоже вполне реалистичны."
   ]
  },
  {
   "cell_type": "markdown",
   "metadata": {},
   "source": [
    "Теперь изучим цены. Так как площади квартир имеют большой разброс, правильней будет рассматривать цены за квадратный метр, которые назодятся в столбце `price_per_meter`. Построим гистограмму по столбцу data['price_per_meter']. Также посмотрим диаграмму размаха методом boxplot() и список характерных значений методом .describe"
   ]
  },
  {
   "cell_type": "code",
   "execution_count": 226,
   "metadata": {},
   "outputs": [
    {
     "data": {
      "image/png": "[encoded data removed]",
      "text/plain": [
       "<Figure size 432x288 with 1 Axes>"
      ]
     },
     "metadata": {
      "needs_background": "light"
     },
     "output_type": "display_data"
    },
    {
     "name": "stdout",
     "output_type": "stream",
     "text": [
      "медиана: 94252.8735632184\n"
     ]
    },
    {
     "data": {
      "text/plain": [
       "count    22144.0\n",
       "mean     97232.3\n",
       "std      41374.4\n",
       "min        111.8\n",
       "25%      75900.9\n",
       "50%      94252.9\n",
       "75%     113034.8\n",
       "max     995983.9\n",
       "Name: price_per_meter, dtype: float64"
      ]
     },
     "execution_count": 226,
     "metadata": {},
     "output_type": "execute_result"
    },
    {
     "data": {
      "image/png": "[encoded data removed]",
      "text/plain": [
       "<Figure size 432x288 with 1 Axes>"
      ]
     },
     "metadata": {
      "needs_background": "light"
     },
     "output_type": "display_data"
    }
   ],
   "source": [
    "data['price_per_meter'].hist(bins = 60)\n",
    "plt.show()\n",
    "data.boxplot('price_per_meter')\n",
    "print('медиана:', data['price_per_meter'].median())\n",
    "data.describe()['price_per_meter']"
   ]
  },
  {
   "cell_type": "markdown",
   "metadata": {},
   "source": [
    "Гистограмма по этому столбцу имеет форму нормального распределения, медиана 94252 и среднее занчение 97232 почти совпадают, но эти значения не похожи на правду, и гистограмма говорит о подозрительных данных: очень много значений выходят за верхний ус, а первый квртиль находится на подозрительно низком уровне - 75900. Есть невероятно низкие значения (111.8) и высокие(995983.9) цены за кв м. Попробуем избавиться от выбивающихся значений."
   ]
  },
  {
   "cell_type": "code",
   "execution_count": 227,
   "metadata": {},
   "outputs": [
    {
     "name": "stdout",
     "output_type": "stream",
     "text": [
      "1900\n"
     ]
    },
    {
     "data": {
      "text/plain": [
       "22144"
      ]
     },
     "execution_count": 227,
     "metadata": {},
     "output_type": "execute_result"
    }
   ],
   "source": [
    "print(data[(data['price_per_meter'] > 250000) | (data['price_per_meter'] < 50000)]['price_per_meter'].count())\n",
    "len(data)"
   ]
  },
  {
   "cell_type": "markdown",
   "metadata": {},
   "source": [
    "Их доля 1900/22144 = 0.08 ощутима, но для более стандартизированного анализа лучше немного пожертвовать объемом исследуемых данных в пользу их качества. Избавимся от редких значений"
   ]
  },
  {
   "cell_type": "code",
   "execution_count": 228,
   "metadata": {},
   "outputs": [],
   "source": [
    "data = data[(data['price_per_meter'] < 250000) & (data['price_per_meter'] > 50000)]"
   ]
  },
  {
   "cell_type": "code",
   "execution_count": 229,
   "metadata": {},
   "outputs": [
    {
     "data": {
      "image/png": "[encoded data removed]",
      "text/plain": [
       "<Figure size 432x288 with 1 Axes>"
      ]
     },
     "metadata": {
      "needs_background": "light"
     },
     "output_type": "display_data"
    },
    {
     "name": "stdout",
     "output_type": "stream",
     "text": [
      "медиана: 96610.16949152542\n"
     ]
    },
    {
     "data": {
      "text/plain": [
       "count    20197.0\n",
       "mean    100424.5\n",
       "std      29228.3\n",
       "min      50073.6\n",
       "25%      80882.4\n",
       "50%      96610.2\n",
       "75%     114516.1\n",
       "max     249056.6\n",
       "Name: price_per_meter, dtype: float64"
      ]
     },
     "execution_count": 229,
     "metadata": {},
     "output_type": "execute_result"
    },
    {
     "data": {
      "image/png": "[encoded data removed]",
      "text/plain": [
       "<Figure size 432x288 with 1 Axes>"
      ]
     },
     "metadata": {
      "needs_background": "light"
     },
     "output_type": "display_data"
    }
   ],
   "source": [
    "data['price_per_meter'].hist(bins = 60)\n",
    "plt.show()\n",
    "plt.ylim(0, 300000)\n",
    "data.boxplot('price_per_meter')\n",
    "print('медиана:', data['price_per_meter'].median())\n",
    "data.describe()['price_per_meter']"
   ]
  },
  {
   "cell_type": "markdown",
   "metadata": {},
   "source": [
    "Теперь и гистограмма более похожа на распределение Пауссона, и диаграмма размаха показывает куда более реалистичную информацию и меньшее количество выбросов"
   ]
  },
  {
   "cell_type": "markdown",
   "metadata": {},
   "source": [
    "Займемся изучением столбца `rooms` , где хранится количество комнат"
   ]
  },
  {
   "cell_type": "code",
   "execution_count": 230,
   "metadata": {},
   "outputs": [
    {
     "data": {
      "image/png": "[encoded data removed]",
      "text/plain": [
       "<Figure size 432x288 with 1 Axes>"
      ]
     },
     "metadata": {
      "needs_background": "light"
     },
     "output_type": "display_data"
    },
    {
     "name": "stdout",
     "output_type": "stream",
     "text": [
      "медиана: 2.0\n"
     ]
    },
    {
     "data": {
      "text/plain": [
       "count   20197.0\n",
       "mean        2.0\n",
       "std         0.9\n",
       "min         0.0\n",
       "25%         1.0\n",
       "50%         2.0\n",
       "75%         3.0\n",
       "max         7.0\n",
       "Name: rooms, dtype: float64"
      ]
     },
     "execution_count": 230,
     "metadata": {},
     "output_type": "execute_result"
    },
    {
     "data": {
      "image/png": "[encoded data removed]",
      "text/plain": [
       "<Figure size 432x288 with 1 Axes>"
      ]
     },
     "metadata": {
      "needs_background": "light"
     },
     "output_type": "display_data"
    }
   ],
   "source": [
    "data['rooms'].hist()\n",
    "plt.show()\n",
    "data.boxplot('rooms')\n",
    "print('медиана:', data['rooms'].median())\n",
    "data.describe()['rooms']"
   ]
  },
  {
   "cell_type": "markdown",
   "metadata": {},
   "source": [
    "Здесь замечены 2 отклонения: во-первых, квартиры с 0 комнат, что скорее всего, означает, что это либо студия, либо квартира со свободной планировкой. Проверим эту гипотезу"
   ]
  },
  {
   "cell_type": "code",
   "execution_count": 231,
   "metadata": {},
   "outputs": [
    {
     "data": {
      "text/plain": [
       "505      1\n",
       "835      1\n",
       "1170     1\n",
       "1524     1\n",
       "3137     1\n",
       "3447     1\n",
       "4668     1\n",
       "6781     1\n",
       "6984     1\n",
       "7213     1\n",
       "9022     1\n",
       "9975     1\n",
       "12178    1\n",
       "13558    1\n",
       "13814    1\n",
       "15257    1\n",
       "15642    1\n",
       "15652    1\n",
       "15694    1\n",
       "16067    1\n",
       "16457    1\n",
       "17735    1\n",
       "17883    1\n",
       "17957    1\n",
       "18061    1\n",
       "19660    1\n",
       "20007    1\n",
       "21149    1\n",
       "21549    1\n",
       "21972    1\n",
       "dtype: int64"
      ]
     },
     "execution_count": 231,
     "metadata": {},
     "output_type": "execute_result"
    }
   ],
   "source": [
    "data[data['rooms'] == 0][['studio','open_plan']].sum(axis = 1)"
   ]
  },
  {
   "cell_type": "markdown",
   "metadata": {},
   "source": [
    "Гипотеза подтвердилась. Тогда это не ошибка в данных, а своеобразный способ заполнения. Логичней будет заменить эти значения на 1 комнату"
   ]
  },
  {
   "cell_type": "code",
   "execution_count": 232,
   "metadata": {},
   "outputs": [],
   "source": [
    "data.loc[data['rooms'] == 0,'rooms'] = 1"
   ]
  },
  {
   "cell_type": "markdown",
   "metadata": {},
   "source": [
    "Во-вторых, есть одна квартира с 7 комнатами. Это вполне реальная информация, но для усреднения данных лучше избавиться от этой записи"
   ]
  },
  {
   "cell_type": "code",
   "execution_count": 233,
   "metadata": {},
   "outputs": [
    {
     "data": {
      "image/png": "[encoded data removed]",
      "text/plain": [
       "<Figure size 432x288 with 1 Axes>"
      ]
     },
     "metadata": {
      "needs_background": "light"
     },
     "output_type": "display_data"
    },
    {
     "name": "stdout",
     "output_type": "stream",
     "text": [
      "медиана: 2.0\n"
     ]
    },
    {
     "data": {
      "text/plain": [
       "count   20189.0\n",
       "mean        2.0\n",
       "std         0.9\n",
       "min         1.0\n",
       "25%         1.0\n",
       "50%         2.0\n",
       "75%         3.0\n",
       "max         6.0\n",
       "Name: rooms, dtype: float64"
      ]
     },
     "execution_count": 233,
     "metadata": {},
     "output_type": "execute_result"
    },
    {
     "data": {
      "image/png": "[encoded data removed]",
      "text/plain": [
       "<Figure size 432x288 with 1 Axes>"
      ]
     },
     "metadata": {
      "needs_background": "light"
     },
     "output_type": "display_data"
    }
   ],
   "source": [
    "data= data[data['rooms'] != 7]\n",
    "data['rooms'].hist()\n",
    "plt.show()\n",
    "data.boxplot('rooms')\n",
    "print('медиана:', data['rooms'].median())\n",
    "data.describe()['rooms']"
   ]
  },
  {
   "cell_type": "markdown",
   "metadata": {},
   "source": [
    "Усы охватывают все данные,такой расклад нас устраиват."
   ]
  },
  {
   "cell_type": "markdown",
   "metadata": {},
   "source": [
    "Займемся изучением столбца `ceiling_height` , где хранится высота потолков"
   ]
  },
  {
   "cell_type": "code",
   "execution_count": 234,
   "metadata": {},
   "outputs": [
    {
     "data": {
      "image/png": "[encoded data removed]",
      "text/plain": [
       "<Figure size 432x288 with 1 Axes>"
      ]
     },
     "metadata": {
      "needs_background": "light"
     },
     "output_type": "display_data"
    },
    {
     "name": "stdout",
     "output_type": "stream",
     "text": [
      "медиана: 2.65\n"
     ]
    },
    {
     "data": {
      "text/plain": [
       "count   12558.0\n",
       "mean        2.8\n",
       "std         0.9\n",
       "min         1.0\n",
       "25%         2.5\n",
       "50%         2.6\n",
       "75%         2.8\n",
       "max        32.0\n",
       "Name: ceiling_height, dtype: float64"
      ]
     },
     "execution_count": 234,
     "metadata": {},
     "output_type": "execute_result"
    },
    {
     "data": {
      "image/png": "[encoded data removed]",
      "text/plain": [
       "<Figure size 432x288 with 1 Axes>"
      ]
     },
     "metadata": {
      "needs_background": "light"
     },
     "output_type": "display_data"
    }
   ],
   "source": [
    "data['ceiling_height'].hist()\n",
    "plt.show()\n",
    "data.boxplot('ceiling_height')\n",
    "print('медиана:', data['ceiling_height'].median())\n",
    "data.describe()['ceiling_height']"
   ]
  },
  {
   "cell_type": "markdown",
   "metadata": {},
   "source": [
    "Тут видны явные аномалии: потолки по 1 метру и 32 метра. От таких значений точно нужно избавляться, тем более, что доля выбивающихся записей совсем незначительна"
   ]
  },
  {
   "cell_type": "code",
   "execution_count": 235,
   "metadata": {},
   "outputs": [
    {
     "name": "stdout",
     "output_type": "stream",
     "text": [
      "20189\n"
     ]
    },
    {
     "data": {
      "text/plain": [
       "52"
      ]
     },
     "execution_count": 235,
     "metadata": {},
     "output_type": "execute_result"
    }
   ],
   "source": [
    "print(len(data))\n",
    "data[(data['ceiling_height'] > 4) | (data['ceiling_height'] < 2)]['ceiling_height'].count()"
   ]
  },
  {
   "cell_type": "code",
   "execution_count": 236,
   "metadata": {},
   "outputs": [],
   "source": [
    "data = data[(data['ceiling_height'] < 4) & (data['ceiling_height'] > 2)]"
   ]
  },
  {
   "cell_type": "code",
   "execution_count": 237,
   "metadata": {},
   "outputs": [
    {
     "data": {
      "image/png": "[encoded data removed]",
      "text/plain": [
       "<Figure size 432x288 with 1 Axes>"
      ]
     },
     "metadata": {
      "needs_background": "light"
     },
     "output_type": "display_data"
    },
    {
     "name": "stdout",
     "output_type": "stream",
     "text": [
      "медиана: 2.65\n"
     ]
    },
    {
     "data": {
      "text/plain": [
       "count   12474.0\n",
       "mean        2.7\n",
       "std         0.2\n",
       "min         2.3\n",
       "25%         2.5\n",
       "50%         2.6\n",
       "75%         2.8\n",
       "max         4.0\n",
       "Name: ceiling_height, dtype: float64"
      ]
     },
     "execution_count": 237,
     "metadata": {},
     "output_type": "execute_result"
    },
    {
     "data": {
      "image/png": "[encoded data removed]",
      "text/plain": [
       "<Figure size 432x288 with 1 Axes>"
      ]
     },
     "metadata": {
      "needs_background": "light"
     },
     "output_type": "display_data"
    }
   ],
   "source": [
    "data['ceiling_height'].hist()\n",
    "plt.show()\n",
    "data.boxplot('ceiling_height')\n",
    "print('медиана:', data['ceiling_height'].median())\n",
    "data.describe()['ceiling_height']"
   ]
  },
  {
   "cell_type": "markdown",
   "metadata": {},
   "source": [
    "Осталось достаточное число выбросов, выходящих за верхний ус, однако и гистограмма имеет нормальный вид, и медиана пракатически совпадает со средним значением. Поэтому для сохранения объема исследуемых данных оставим таблицу в таком виде."
   ]
  },
  {
   "cell_type": "markdown",
   "metadata": {},
   "source": [
    "### Вывод"
   ]
  },
  {
   "cell_type": "markdown",
   "metadata": {},
   "source": [
    "От некоторых строк таблицы пришлось избавиться из-за сомнениц в корректности данных, от других - для более стандартизированного анализа, однако все изменения были сдеаланы с учетом того, чтобы оставить данные как можно более объемными."
   ]
  },
  {
   "cell_type": "markdown",
   "metadata": {},
   "source": [
    "<div style=\"border:solid  green  2px; padding: 20px\"> <h1 style=\"color: green ; margin-bottom:20px\">Комментарий наставника</h1>\n",
    "\n",
    "Просто класс! Очень здорово и детально, работа проделана колоссальная, продолжай в том же духе\n"
   ]
  },
  {
   "cell_type": "markdown",
   "metadata": {},
   "source": [
    "#### Изучите время продажи квартиры. Постройте гистограмму. Посчитайте среднее и медиану. Опишите, сколько обычно занимает продажа. Когда можно считать, что продажи прошли очень быстро, а когда необычно долго?"
   ]
  },
  {
   "cell_type": "markdown",
   "metadata": {},
   "source": [
    "Построим гистограмму по столбцу `days_exposition`, который содержит время с момента размещения объявления и до его снятия (продажи квартиры), а также посчитаем среднее и медиану"
   ]
  },
  {
   "cell_type": "code",
   "execution_count": 238,
   "metadata": {},
   "outputs": [
    {
     "name": "stdout",
     "output_type": "stream",
     "text": [
      "среднее: 186.0546636085627\n",
      "медиана: 100.0\n"
     ]
    },
    {
     "data": {
      "image/png": "[encoded data removed]",
      "text/plain": [
       "<Figure size 432x288 with 1 Axes>"
      ]
     },
     "metadata": {
      "needs_background": "light"
     },
     "output_type": "display_data"
    }
   ],
   "source": [
    "data['days_exposition'].hist(bins = 100)\n",
    "print('среднее:',data['days_exposition'].mean())\n",
    "print('медиана:',data['days_exposition'].median())"
   ]
  },
  {
   "cell_type": "markdown",
   "metadata": {},
   "source": [
    "### Вывод"
   ]
  },
  {
   "cell_type": "markdown",
   "metadata": {},
   "source": [
    "Среднее и медиана различаются практически в 2 раза, есть огромный пик в районе нуля, да и хвост у гистограммы слишком длиный (есть объявления, державшиеся более 3 лет). Скорее всего, некоторые объявления просто перестали мониторить, продали квартиру, а про объявление забыли, что и спровоцировало аномально большие значения или наоборот: выложили по ошибке, передумали продавать, или решили изменить объявление, удалив старое, в результате чего появилось необычно маленькое значения. Однако такие значения могли возникнуть в результате обычой продажи, то есть не по ошибке:быстро нашелся клиент, или наоборот, квартиру долго не могли продать. Более того,по гистограмме видно, что таких значений достаточно много, поэтому их удаление просто опустошит данные. Для дальнейшего анализа они не понадобятся, поэтому оставим столбец без изменений, а на данном этапе сделаем такие выводы: в среднем продажа квартиры занимает 100-180 дней, а значения, отклоняющиемя от этих значений, считаются быстрыми или медленными, соответственно стороне отклонения."
   ]
  },
  {
   "cell_type": "markdown",
   "metadata": {},
   "source": [
    "<div style=\"border:solid  green  2px; padding: 20px\"> <h1 style=\"color: green ; margin-bottom:20px\">Комментарий наставника</h1>\n",
    "\n",
    "Всё правильно"
   ]
  },
  {
   "cell_type": "markdown",
   "metadata": {},
   "source": [
    "Проверим все количественные столбцы исправленной таблицы на корректность данных, применив автоматическое построение гистограммы для каждого из них"
   ]
  },
  {
   "cell_type": "code",
   "execution_count": 239,
   "metadata": {
    "scrolled": false
   },
   "outputs": [
    {
     "name": "stdout",
     "output_type": "stream",
     "text": [
      "total_images\n"
     ]
    },
    {
     "data": {
      "image/png": "[encoded data removed]",
      "text/plain": [
       "<Figure size 432x288 with 1 Axes>"
      ]
     },
     "metadata": {
      "needs_background": "light"
     },
     "output_type": "display_data"
    },
    {
     "name": "stdout",
     "output_type": "stream",
     "text": [
      "last_price\n"
     ]
    },
    {
     "data": {
      "image/png": "[encoded data removed]",
      "text/plain": [
       "<Figure size 432x288 with 1 Axes>"
      ]
     },
     "metadata": {
      "needs_background": "light"
     },
     "output_type": "display_data"
    },
    {
     "name": "stdout",
     "output_type": "stream",
     "text": [
      "total_area\n"
     ]
    },
    {
     "data": {
      "image/png": "[encoded data removed]",
      "text/plain": [
       "<Figure size 432x288 with 1 Axes>"
      ]
     },
     "metadata": {
      "needs_background": "light"
     },
     "output_type": "display_data"
    },
    {
     "name": "stdout",
     "output_type": "stream",
     "text": [
      "first_day_exposition\n"
     ]
    },
    {
     "data": {
      "image/png": "[encoded data removed]",
      "text/plain": [
       "<Figure size 432x288 with 1 Axes>"
      ]
     },
     "metadata": {
      "needs_background": "light"
     },
     "output_type": "display_data"
    },
    {
     "name": "stdout",
     "output_type": "stream",
     "text": [
      "rooms\n"
     ]
    },
    {
     "data": {
      "image/png": "[encoded data removed]",
      "text/plain": [
       "<Figure size 432x288 with 1 Axes>"
      ]
     },
     "metadata": {
      "needs_background": "light"
     },
     "output_type": "display_data"
    },
    {
     "name": "stdout",
     "output_type": "stream",
     "text": [
      "ceiling_height\n"
     ]
    },
    {
     "data": {
      "image/png": "[encoded data removed]",
      "text/plain": [
       "<Figure size 432x288 with 1 Axes>"
      ]
     },
     "metadata": {
      "needs_background": "light"
     },
     "output_type": "display_data"
    },
    {
     "name": "stdout",
     "output_type": "stream",
     "text": [
      "floors_total\n"
     ]
    },
    {
     "data": {
      "image/png": "[encoded data removed]",
      "text/plain": [
       "<Figure size 432x288 with 1 Axes>"
      ]
     },
     "metadata": {
      "needs_background": "light"
     },
     "output_type": "display_data"
    },
    {
     "name": "stdout",
     "output_type": "stream",
     "text": [
      "living_area\n"
     ]
    },
    {
     "data": {
      "image/png": "[encoded data removed]",
      "text/plain": [
       "<Figure size 432x288 with 1 Axes>"
      ]
     },
     "metadata": {
      "needs_background": "light"
     },
     "output_type": "display_data"
    },
    {
     "name": "stdout",
     "output_type": "stream",
     "text": [
      "floor\n"
     ]
    },
    {
     "data": {
      "image/png": "[encoded data removed]",
      "text/plain": [
       "<Figure size 432x288 with 1 Axes>"
      ]
     },
     "metadata": {
      "needs_background": "light"
     },
     "output_type": "display_data"
    },
    {
     "name": "stdout",
     "output_type": "stream",
     "text": [
      "kitchen_area\n"
     ]
    },
    {
     "data": {
      "image/png": "[encoded data removed]",
      "text/plain": [
       "<Figure size 432x288 with 1 Axes>"
      ]
     },
     "metadata": {
      "needs_background": "light"
     },
     "output_type": "display_data"
    },
    {
     "name": "stdout",
     "output_type": "stream",
     "text": [
      "balcony\n"
     ]
    },
    {
     "data": {
      "image/png": "[encoded data removed]",
      "text/plain": [
       "<Figure size 432x288 with 1 Axes>"
      ]
     },
     "metadata": {
      "needs_background": "light"
     },
     "output_type": "display_data"
    },
    {
     "name": "stdout",
     "output_type": "stream",
     "text": [
      "airports_nearest\n"
     ]
    },
    {
     "data": {
      "image/png": "[encoded data removed]",
      "text/plain": [
       "<Figure size 432x288 with 1 Axes>"
      ]
     },
     "metadata": {
      "needs_background": "light"
     },
     "output_type": "display_data"
    },
    {
     "name": "stdout",
     "output_type": "stream",
     "text": [
      "cityCenters_nearest\n"
     ]
    },
    {
     "data": {
      "image/png": "[encoded data removed]",
      "text/plain": [
       "<Figure size 432x288 with 1 Axes>"
      ]
     },
     "metadata": {
      "needs_background": "light"
     },
     "output_type": "display_data"
    },
    {
     "name": "stdout",
     "output_type": "stream",
     "text": [
      "parks_around3000\n"
     ]
    },
    {
     "data": {
      "image/png": "[encoded data removed]",
      "text/plain": [
       "<Figure size 432x288 with 1 Axes>"
      ]
     },
     "metadata": {
      "needs_background": "light"
     },
     "output_type": "display_data"
    },
    {
     "name": "stdout",
     "output_type": "stream",
     "text": [
      "parks_nearest\n"
     ]
    },
    {
     "data": {
      "image/png": "[encoded data removed]",
      "text/plain": [
       "<Figure size 432x288 with 1 Axes>"
      ]
     },
     "metadata": {
      "needs_background": "light"
     },
     "output_type": "display_data"
    },
    {
     "name": "stdout",
     "output_type": "stream",
     "text": [
      "ponds_around3000\n"
     ]
    },
    {
     "data": {
      "image/png": "[encoded data removed]",
      "text/plain": [
       "<Figure size 432x288 with 1 Axes>"
      ]
     },
     "metadata": {
      "needs_background": "light"
     },
     "output_type": "display_data"
    },
    {
     "name": "stdout",
     "output_type": "stream",
     "text": [
      "ponds_nearest\n"
     ]
    },
    {
     "data": {
      "image/png": "[encoded data removed]",
      "text/plain": [
       "<Figure size 432x288 with 1 Axes>"
      ]
     },
     "metadata": {
      "needs_background": "light"
     },
     "output_type": "display_data"
    },
    {
     "name": "stdout",
     "output_type": "stream",
     "text": [
      "days_exposition\n"
     ]
    },
    {
     "data": {
      "image/png": "[encoded data removed]",
      "text/plain": [
       "<Figure size 432x288 with 1 Axes>"
      ]
     },
     "metadata": {
      "needs_background": "light"
     },
     "output_type": "display_data"
    },
    {
     "name": "stdout",
     "output_type": "stream",
     "text": [
      "price_per_meter\n"
     ]
    },
    {
     "data": {
      "image/png": "[encoded data removed]",
      "text/plain": [
       "<Figure size 432x288 with 1 Axes>"
      ]
     },
     "metadata": {
      "needs_background": "light"
     },
     "output_type": "display_data"
    },
    {
     "name": "stdout",
     "output_type": "stream",
     "text": [
      "weekday\n"
     ]
    },
    {
     "data": {
      "image/png": "[encoded data removed]",
      "text/plain": [
       "<Figure size 432x288 with 1 Axes>"
      ]
     },
     "metadata": {
      "needs_background": "light"
     },
     "output_type": "display_data"
    },
    {
     "name": "stdout",
     "output_type": "stream",
     "text": [
      "month\n"
     ]
    },
    {
     "data": {
      "image/png": "[encoded data removed]",
      "text/plain": [
       "<Figure size 432x288 with 1 Axes>"
      ]
     },
     "metadata": {
      "needs_background": "light"
     },
     "output_type": "display_data"
    },
    {
     "name": "stdout",
     "output_type": "stream",
     "text": [
      "year\n"
     ]
    },
    {
     "data": {
      "image/png": "[encoded data removed]",
      "text/plain": [
       "<Figure size 432x288 with 1 Axes>"
      ]
     },
     "metadata": {
      "needs_background": "light"
     },
     "output_type": "display_data"
    },
    {
     "name": "stdout",
     "output_type": "stream",
     "text": [
      "living_to_total\n"
     ]
    },
    {
     "data": {
      "image/png": "[encoded data removed]",
      "text/plain": [
       "<Figure size 432x288 with 1 Axes>"
      ]
     },
     "metadata": {
      "needs_background": "light"
     },
     "output_type": "display_data"
    },
    {
     "name": "stdout",
     "output_type": "stream",
     "text": [
      "kitchen_to_total\n"
     ]
    },
    {
     "data": {
      "image/png": "[encoded data removed]",
      "text/plain": [
       "<Figure size 432x288 with 1 Axes>"
      ]
     },
     "metadata": {
      "needs_background": "light"
     },
     "output_type": "display_data"
    }
   ],
   "source": [
    "for column in data.columns:\n",
    "    if ((data[column].dtype) != bool) and ((data[column].dtype) != object):\n",
    "        print(column)\n",
    "        data[column].hist()\n",
    "        plt.show()"
   ]
  },
  {
   "cell_type": "code",
   "execution_count": 240,
   "metadata": {
    "scrolled": false
   },
   "outputs": [
    {
     "data": {
      "text/html": [
       "<div>\n",
       "<style scoped>\n",
       "    .dataframe tbody tr th:only-of-type {\n",
       "        vertical-align: middle;\n",
       "    }\n",
       "\n",
       "    .dataframe tbody tr th {\n",
       "        vertical-align: top;\n",
       "    }\n",
       "\n",
       "    .dataframe thead th {\n",
       "        text-align: right;\n",
       "    }\n",
       "</style>\n",
       "<table border=\"1\" class=\"dataframe\">\n",
       "  <thead>\n",
       "    <tr style=\"text-align: right;\">\n",
       "      <th></th>\n",
       "      <th>total_images</th>\n",
       "      <th>last_price</th>\n",
       "      <th>total_area</th>\n",
       "      <th>first_day_exposition</th>\n",
       "      <th>rooms</th>\n",
       "      <th>ceiling_height</th>\n",
       "      <th>floors_total</th>\n",
       "      <th>living_area</th>\n",
       "      <th>floor</th>\n",
       "      <th>is_apartment</th>\n",
       "      <th>...</th>\n",
       "      <th>ponds_around3000</th>\n",
       "      <th>ponds_nearest</th>\n",
       "      <th>days_exposition</th>\n",
       "      <th>price_per_meter</th>\n",
       "      <th>weekday</th>\n",
       "      <th>month</th>\n",
       "      <th>year</th>\n",
       "      <th>floor_category</th>\n",
       "      <th>living_to_total</th>\n",
       "      <th>kitchen_to_total</th>\n",
       "    </tr>\n",
       "  </thead>\n",
       "  <tbody>\n",
       "    <tr>\n",
       "      <td>0</td>\n",
       "      <td>20</td>\n",
       "      <td>13000000.0</td>\n",
       "      <td>108.0</td>\n",
       "      <td>2019-03-07</td>\n",
       "      <td>3</td>\n",
       "      <td>2.7</td>\n",
       "      <td>16</td>\n",
       "      <td>51.0</td>\n",
       "      <td>8</td>\n",
       "      <td>True</td>\n",
       "      <td>...</td>\n",
       "      <td>2</td>\n",
       "      <td>755.0</td>\n",
       "      <td>nan</td>\n",
       "      <td>120370.4</td>\n",
       "      <td>3</td>\n",
       "      <td>3</td>\n",
       "      <td>2019</td>\n",
       "      <td>другой</td>\n",
       "      <td>0.5</td>\n",
       "      <td>0.2</td>\n",
       "    </tr>\n",
       "    <tr>\n",
       "      <td>4</td>\n",
       "      <td>2</td>\n",
       "      <td>10000000.0</td>\n",
       "      <td>100.0</td>\n",
       "      <td>2018-06-19</td>\n",
       "      <td>2</td>\n",
       "      <td>3.0</td>\n",
       "      <td>14</td>\n",
       "      <td>32.0</td>\n",
       "      <td>13</td>\n",
       "      <td>True</td>\n",
       "      <td>...</td>\n",
       "      <td>1</td>\n",
       "      <td>48.0</td>\n",
       "      <td>121.0</td>\n",
       "      <td>100000.0</td>\n",
       "      <td>1</td>\n",
       "      <td>6</td>\n",
       "      <td>2018</td>\n",
       "      <td>другой</td>\n",
       "      <td>0.3</td>\n",
       "      <td>0.4</td>\n",
       "    </tr>\n",
       "    <tr>\n",
       "      <td>9</td>\n",
       "      <td>18</td>\n",
       "      <td>5400000.0</td>\n",
       "      <td>61.0</td>\n",
       "      <td>2017-02-26</td>\n",
       "      <td>3</td>\n",
       "      <td>2.5</td>\n",
       "      <td>9</td>\n",
       "      <td>43.6</td>\n",
       "      <td>7</td>\n",
       "      <td>True</td>\n",
       "      <td>...</td>\n",
       "      <td>0</td>\n",
       "      <td>nan</td>\n",
       "      <td>289.0</td>\n",
       "      <td>88524.6</td>\n",
       "      <td>6</td>\n",
       "      <td>2</td>\n",
       "      <td>2017</td>\n",
       "      <td>другой</td>\n",
       "      <td>0.7</td>\n",
       "      <td>0.1</td>\n",
       "    </tr>\n",
       "    <tr>\n",
       "      <td>10</td>\n",
       "      <td>5</td>\n",
       "      <td>5050000.0</td>\n",
       "      <td>39.6</td>\n",
       "      <td>2017-11-16</td>\n",
       "      <td>1</td>\n",
       "      <td>2.7</td>\n",
       "      <td>12</td>\n",
       "      <td>20.3</td>\n",
       "      <td>3</td>\n",
       "      <td>True</td>\n",
       "      <td>...</td>\n",
       "      <td>2</td>\n",
       "      <td>553.0</td>\n",
       "      <td>137.0</td>\n",
       "      <td>127525.3</td>\n",
       "      <td>3</td>\n",
       "      <td>11</td>\n",
       "      <td>2017</td>\n",
       "      <td>другой</td>\n",
       "      <td>0.5</td>\n",
       "      <td>0.2</td>\n",
       "    </tr>\n",
       "    <tr>\n",
       "      <td>13</td>\n",
       "      <td>20</td>\n",
       "      <td>3550000.0</td>\n",
       "      <td>42.8</td>\n",
       "      <td>2017-07-01</td>\n",
       "      <td>2</td>\n",
       "      <td>2.6</td>\n",
       "      <td>5</td>\n",
       "      <td>27.0</td>\n",
       "      <td>5</td>\n",
       "      <td>True</td>\n",
       "      <td>...</td>\n",
       "      <td>3</td>\n",
       "      <td>298.0</td>\n",
       "      <td>366.0</td>\n",
       "      <td>82943.9</td>\n",
       "      <td>5</td>\n",
       "      <td>7</td>\n",
       "      <td>2017</td>\n",
       "      <td>последний</td>\n",
       "      <td>0.6</td>\n",
       "      <td>0.1</td>\n",
       "    </tr>\n",
       "    <tr>\n",
       "      <td>...</td>\n",
       "      <td>...</td>\n",
       "      <td>...</td>\n",
       "      <td>...</td>\n",
       "      <td>...</td>\n",
       "      <td>...</td>\n",
       "      <td>...</td>\n",
       "      <td>...</td>\n",
       "      <td>...</td>\n",
       "      <td>...</td>\n",
       "      <td>...</td>\n",
       "      <td>...</td>\n",
       "      <td>...</td>\n",
       "      <td>...</td>\n",
       "      <td>...</td>\n",
       "      <td>...</td>\n",
       "      <td>...</td>\n",
       "      <td>...</td>\n",
       "      <td>...</td>\n",
       "      <td>...</td>\n",
       "      <td>...</td>\n",
       "      <td>...</td>\n",
       "    </tr>\n",
       "    <tr>\n",
       "      <td>23603</td>\n",
       "      <td>13</td>\n",
       "      <td>3550000.0</td>\n",
       "      <td>35.3</td>\n",
       "      <td>2018-02-28</td>\n",
       "      <td>1</td>\n",
       "      <td>2.9</td>\n",
       "      <td>15</td>\n",
       "      <td>16.3</td>\n",
       "      <td>4</td>\n",
       "      <td>True</td>\n",
       "      <td>...</td>\n",
       "      <td>2</td>\n",
       "      <td>652.0</td>\n",
       "      <td>29.0</td>\n",
       "      <td>100566.6</td>\n",
       "      <td>2</td>\n",
       "      <td>2</td>\n",
       "      <td>2018</td>\n",
       "      <td>другой</td>\n",
       "      <td>0.5</td>\n",
       "      <td>0.3</td>\n",
       "    </tr>\n",
       "    <tr>\n",
       "      <td>23605</td>\n",
       "      <td>11</td>\n",
       "      <td>9470000.0</td>\n",
       "      <td>72.9</td>\n",
       "      <td>2016-10-13</td>\n",
       "      <td>2</td>\n",
       "      <td>2.8</td>\n",
       "      <td>25</td>\n",
       "      <td>40.3</td>\n",
       "      <td>7</td>\n",
       "      <td>True</td>\n",
       "      <td>...</td>\n",
       "      <td>1</td>\n",
       "      <td>806.0</td>\n",
       "      <td>519.0</td>\n",
       "      <td>129904.0</td>\n",
       "      <td>3</td>\n",
       "      <td>10</td>\n",
       "      <td>2016</td>\n",
       "      <td>другой</td>\n",
       "      <td>0.6</td>\n",
       "      <td>0.1</td>\n",
       "    </tr>\n",
       "    <tr>\n",
       "      <td>23607</td>\n",
       "      <td>9</td>\n",
       "      <td>4600000.0</td>\n",
       "      <td>62.4</td>\n",
       "      <td>2016-08-05</td>\n",
       "      <td>3</td>\n",
       "      <td>2.6</td>\n",
       "      <td>9</td>\n",
       "      <td>40.0</td>\n",
       "      <td>8</td>\n",
       "      <td>True</td>\n",
       "      <td>...</td>\n",
       "      <td>1</td>\n",
       "      <td>675.0</td>\n",
       "      <td>239.0</td>\n",
       "      <td>73717.9</td>\n",
       "      <td>4</td>\n",
       "      <td>8</td>\n",
       "      <td>2016</td>\n",
       "      <td>другой</td>\n",
       "      <td>0.6</td>\n",
       "      <td>0.1</td>\n",
       "    </tr>\n",
       "    <tr>\n",
       "      <td>23608</td>\n",
       "      <td>9</td>\n",
       "      <td>9700000.0</td>\n",
       "      <td>133.8</td>\n",
       "      <td>2017-03-21</td>\n",
       "      <td>3</td>\n",
       "      <td>3.7</td>\n",
       "      <td>5</td>\n",
       "      <td>73.3</td>\n",
       "      <td>3</td>\n",
       "      <td>True</td>\n",
       "      <td>...</td>\n",
       "      <td>3</td>\n",
       "      <td>381.0</td>\n",
       "      <td>nan</td>\n",
       "      <td>72490.8</td>\n",
       "      <td>1</td>\n",
       "      <td>3</td>\n",
       "      <td>2017</td>\n",
       "      <td>другой</td>\n",
       "      <td>0.5</td>\n",
       "      <td>0.1</td>\n",
       "    </tr>\n",
       "    <tr>\n",
       "      <td>23611</td>\n",
       "      <td>13</td>\n",
       "      <td>11475000.0</td>\n",
       "      <td>76.8</td>\n",
       "      <td>2017-03-28</td>\n",
       "      <td>2</td>\n",
       "      <td>3.0</td>\n",
       "      <td>17</td>\n",
       "      <td>nan</td>\n",
       "      <td>12</td>\n",
       "      <td>True</td>\n",
       "      <td>...</td>\n",
       "      <td>3</td>\n",
       "      <td>196.0</td>\n",
       "      <td>602.0</td>\n",
       "      <td>149511.4</td>\n",
       "      <td>1</td>\n",
       "      <td>3</td>\n",
       "      <td>2017</td>\n",
       "      <td>другой</td>\n",
       "      <td>nan</td>\n",
       "      <td>0.3</td>\n",
       "    </tr>\n",
       "  </tbody>\n",
       "</table>\n",
       "<p>12474 rows × 29 columns</p>\n",
       "</div>"
      ],
      "text/plain": [
       "       total_images  last_price  total_area first_day_exposition  rooms  \\\n",
       "0                20  13000000.0       108.0           2019-03-07      3   \n",
       "4                 2  10000000.0       100.0           2018-06-19      2   \n",
       "9                18   5400000.0        61.0           2017-02-26      3   \n",
       "10                5   5050000.0        39.6           2017-11-16      1   \n",
       "13               20   3550000.0        42.8           2017-07-01      2   \n",
       "...             ...         ...         ...                  ...    ...   \n",
       "23603            13   3550000.0        35.3           2018-02-28      1   \n",
       "23605            11   9470000.0        72.9           2016-10-13      2   \n",
       "23607             9   4600000.0        62.4           2016-08-05      3   \n",
       "23608             9   9700000.0       133.8           2017-03-21      3   \n",
       "23611            13  11475000.0        76.8           2017-03-28      2   \n",
       "\n",
       "       ceiling_height  floors_total  living_area  floor  is_apartment  ...  \\\n",
       "0                 2.7            16         51.0      8          True  ...   \n",
       "4                 3.0            14         32.0     13          True  ...   \n",
       "9                 2.5             9         43.6      7          True  ...   \n",
       "10                2.7            12         20.3      3          True  ...   \n",
       "13                2.6             5         27.0      5          True  ...   \n",
       "...               ...           ...          ...    ...           ...  ...   \n",
       "23603             2.9            15         16.3      4          True  ...   \n",
       "23605             2.8            25         40.3      7          True  ...   \n",
       "23607             2.6             9         40.0      8          True  ...   \n",
       "23608             3.7             5         73.3      3          True  ...   \n",
       "23611             3.0            17          nan     12          True  ...   \n",
       "\n",
       "       ponds_around3000  ponds_nearest  days_exposition  price_per_meter  \\\n",
       "0                     2          755.0              nan         120370.4   \n",
       "4                     1           48.0            121.0         100000.0   \n",
       "9                     0            nan            289.0          88524.6   \n",
       "10                    2          553.0            137.0         127525.3   \n",
       "13                    3          298.0            366.0          82943.9   \n",
       "...                 ...            ...              ...              ...   \n",
       "23603                 2          652.0             29.0         100566.6   \n",
       "23605                 1          806.0            519.0         129904.0   \n",
       "23607                 1          675.0            239.0          73717.9   \n",
       "23608                 3          381.0              nan          72490.8   \n",
       "23611                 3          196.0            602.0         149511.4   \n",
       "\n",
       "      weekday  month  year  floor_category  living_to_total  kitchen_to_total  \n",
       "0           3      3  2019          другой              0.5               0.2  \n",
       "4           1      6  2018          другой              0.3               0.4  \n",
       "9           6      2  2017          другой              0.7               0.1  \n",
       "10          3     11  2017          другой              0.5               0.2  \n",
       "13          5      7  2017       последний              0.6               0.1  \n",
       "...       ...    ...   ...             ...              ...               ...  \n",
       "23603       2      2  2018          другой              0.5               0.3  \n",
       "23605       3     10  2016          другой              0.6               0.1  \n",
       "23607       4      8  2016          другой              0.6               0.1  \n",
       "23608       1      3  2017          другой              0.5               0.1  \n",
       "23611       1      3  2017          другой              nan               0.3  \n",
       "\n",
       "[12474 rows x 29 columns]"
      ]
     },
     "execution_count": 240,
     "metadata": {},
     "output_type": "execute_result"
    }
   ],
   "source": [
    "data"
   ]
  },
  {
   "cell_type": "markdown",
   "metadata": {},
   "source": [
    "### Вывод"
   ]
  },
  {
   "cell_type": "markdown",
   "metadata": {},
   "source": [
    "По гистограммам видно, что данные в целом нормальны, следовательно можно приступать к поиску закономерностей"
   ]
  },
  {
   "cell_type": "markdown",
   "metadata": {},
   "source": [
    "<div style=\"border:solid  green  2px; padding: 20px\"> <h1 style=\"color: green ; margin-bottom:20px\">Комментарий наставника</h1>\n",
    "\n",
    "У тебя отлично получается анализировать сложные данные и находить скрытые зависимости, здорово!)"
   ]
  },
  {
   "cell_type": "markdown",
   "metadata": {},
   "source": [
    "#### Какие факторы больше всего влияют на стоимость квартиры? Изучите, зависит ли цена от квадратного метра, числа комнат, удалённости от центра. Изучите зависимость цены от того, на каком этаже расположена квартира: первом, последнем или другом. Также изучите зависимость от даты размещения: дня недели, месяца и года."
   ]
  },
  {
   "cell_type": "markdown",
   "metadata": {},
   "source": [
    "Построим диаграммы раcсеяния попарно для цены и площади, цены и числа комнат, цены и удаленности от центра(будем смотреть на первый столбец полученной матрицы диаграмм), а также найдем для всех пар столбцов коэффициент корреляции методом corr() без параметров.\n"
   ]
  },
  {
   "cell_type": "code",
   "execution_count": 241,
   "metadata": {},
   "outputs": [
    {
     "name": "stdout",
     "output_type": "stream",
     "text": [
      "                     last_price  total_area  rooms  cityCenters_nearest\n",
      "last_price                  1.0         0.8    0.5                 -0.3\n",
      "total_area                  0.8         1.0    0.8                 -0.2\n",
      "rooms                       0.5         0.8    1.0                 -0.1\n",
      "cityCenters_nearest        -0.3        -0.2   -0.1                  1.0\n"
     ]
    },
    {
     "data": {
      "image/png": "[encoded data removed]",
      "text/plain": [
       "<Figure size 648x648 with 16 Axes>"
      ]
     },
     "metadata": {
      "needs_background": "light"
     },
     "output_type": "display_data"
    }
   ],
   "source": [
    "pd.plotting.scatter_matrix(data[['last_price','total_area', 'rooms', 'cityCenters_nearest']], figsize=(9, 9))\n",
    "print(data[['last_price','total_area', 'rooms', 'cityCenters_nearest']].corr())"
   ]
  },
  {
   "cell_type": "markdown",
   "metadata": {},
   "source": [
    "### Вывод"
   ]
  },
  {
   "cell_type": "markdown",
   "metadata": {},
   "source": [
    "По полученным данным видно, что цена больше всего зависит от общей площади квартиры (коэффициент корреляции = 0.8), в меньшей степени- от числа комнат (0.5), и в незначительной степени - от удаленности от центра(-0.3 (обратная зависимость - чем дальше от центра, тем дешевле)"
   ]
  },
  {
   "cell_type": "markdown",
   "metadata": {},
   "source": [
    "Изучим зависимость цены от того, на каком этаже расположена квартира: первом, последнем или другом. "
   ]
  },
  {
   "cell_type": "code",
   "execution_count": 242,
   "metadata": {},
   "outputs": [
    {
     "data": {
      "text/plain": [
       "<matplotlib.axes._subplots.AxesSubplot at 0x7feb3edb8190>"
      ]
     },
     "execution_count": 242,
     "metadata": {},
     "output_type": "execute_result"
    },
    {
     "data": {
      "image/png": "[encoded data removed]",
      "text/plain": [
       "<Figure size 432x288 with 1 Axes>"
      ]
     },
     "metadata": {
      "needs_background": "light"
     },
     "output_type": "display_data"
    }
   ],
   "source": [
    "data.pivot_table(index = 'floor_category', values = 'last_price', aggfunc = 'sum').plot()"
   ]
  },
  {
   "cell_type": "markdown",
   "metadata": {},
   "source": [
    "### Вывод"
   ]
  },
  {
   "cell_type": "markdown",
   "metadata": {},
   "source": [
    "По полученному графику видно, что квартиры на первом этаже стоят дешевле остальных, на последнем-немного больше, а на \"других\" этажах - намного больше, чем на первом или последнем."
   ]
  },
  {
   "cell_type": "markdown",
   "metadata": {},
   "source": [
    "Теперь изучим зависимость цены ('last_price') от даты размещения: дня недели ('weekday'), месяца('month') и года('year'). Последовательно сделаем из data сводные таблицы со значениями цены, и индексами день недели/месяц/год, для каждой построим график зависимости"
   ]
  },
  {
   "cell_type": "code",
   "execution_count": 243,
   "metadata": {},
   "outputs": [
    {
     "data": {
      "text/plain": [
       "<matplotlib.axes._subplots.AxesSubplot at 0x7feb3ebda1d0>"
      ]
     },
     "execution_count": 243,
     "metadata": {},
     "output_type": "execute_result"
    },
    {
     "data": {
      "image/png": "[encoded data removed]",
      "text/plain": [
       "<Figure size 432x288 with 1 Axes>"
      ]
     },
     "metadata": {
      "needs_background": "light"
     },
     "output_type": "display_data"
    },
    {
     "data": {
      "image/png": "[encoded data removed]",
      "text/plain": [
       "<Figure size 432x288 with 1 Axes>"
      ]
     },
     "metadata": {
      "needs_background": "light"
     },
     "output_type": "display_data"
    },
    {
     "data": {
      "image/png": "[encoded data removed]",
      "text/plain": [
       "<Figure size 432x288 with 1 Axes>"
      ]
     },
     "metadata": {
      "needs_background": "light"
     },
     "output_type": "display_data"
    }
   ],
   "source": [
    "data.pivot_table(index = 'weekday', values = 'last_price', aggfunc = 'sum').plot()\n",
    "data.pivot_table(index = 'month', values = 'last_price', aggfunc = 'sum').plot()\n",
    "data.pivot_table(index = 'year', values = 'last_price', aggfunc = 'sum').plot()"
   ]
  },
  {
   "cell_type": "markdown",
   "metadata": {},
   "source": [
    "### Вывод"
   ]
  },
  {
   "cell_type": "markdown",
   "metadata": {},
   "source": [
    "Прослеживаемые зависимости: а)квартиры, объявления для которых выложены в будние дни, продаются по более высокой цене, в сравнении с выложенными на выходных; б) квартиры, объявления для которых выложены в мае, продаются по самой низкой цене, а февральские, мартовские и апрельские- по высокой (пик в феврале); в) цены на квартиры росли с 2014 по 2018 год, в 2018 достигли пика, а к 2019 снизились"
   ]
  },
  {
   "cell_type": "markdown",
   "metadata": {},
   "source": [
    "#### Выберите 10 населённых пунктов с наибольшим числом объявлений. Посчитайте среднюю цену квадратного метра в этих населённых пунктах. Выделите населённые пункты с самой высокой и низкой стоимостью жилья."
   ]
  },
  {
   "cell_type": "markdown",
   "metadata": {},
   "source": [
    "Найдем 10 населённых пунктов с наибольшим числом объявлений. Для этого сгруппируем таблицу data по названию населенного пункта, посчитаем для каждого число объявлений, отсортируем полученные данные по убыванию, оставим первые 10 строк и запишем полученные индексы в переменную top_ten."
   ]
  },
  {
   "cell_type": "code",
   "execution_count": 244,
   "metadata": {},
   "outputs": [
    {
     "data": {
      "text/plain": [
       "Index(['Санкт-Петербург', 'Всеволожск', 'Пушкин', 'посёлок Шушары', 'Колпино',\n",
       "       'посёлок Мурино', 'Гатчина', 'Петергоф', 'посёлок Парголово',\n",
       "       'Сестрорецк'],\n",
       "      dtype='object', name='locality_name')"
      ]
     },
     "execution_count": 244,
     "metadata": {},
     "output_type": "execute_result"
    }
   ],
   "source": [
    "top_ten = data.groupby('locality_name')['total_images'].count().sort_values(ascending = False).head(10).index\n",
    "top_ten"
   ]
  },
  {
   "cell_type": "markdown",
   "metadata": {},
   "source": [
    "### Вывод"
   ]
  },
  {
   "cell_type": "markdown",
   "metadata": {},
   "source": [
    "10 населённых пунктов с наибольшим числом объявлений: Санкт-Петербург, Всеволожск,Пушкин, посёлок Шушары, Колпино, посёлок Мурино, Гатчина, Петергоф, посёлок Парголово, Сестрорецк. "
   ]
  },
  {
   "cell_type": "markdown",
   "metadata": {},
   "source": [
    "Теперь в переменной top_ten_data оставим сгруппированные по названию населенного пункта записи из таблицы data, для которых населенный пункт входит в полученный топ 10 (для всех столбцов возьмем среднее по населенному пункту)"
   ]
  },
  {
   "cell_type": "code",
   "execution_count": 245,
   "metadata": {},
   "outputs": [
    {
     "data": {
      "text/html": [
       "<div>\n",
       "<style scoped>\n",
       "    .dataframe tbody tr th:only-of-type {\n",
       "        vertical-align: middle;\n",
       "    }\n",
       "\n",
       "    .dataframe tbody tr th {\n",
       "        vertical-align: top;\n",
       "    }\n",
       "\n",
       "    .dataframe thead th {\n",
       "        text-align: right;\n",
       "    }\n",
       "</style>\n",
       "<table border=\"1\" class=\"dataframe\">\n",
       "  <thead>\n",
       "    <tr style=\"text-align: right;\">\n",
       "      <th></th>\n",
       "      <th>airports_nearest</th>\n",
       "      <th>balcony</th>\n",
       "      <th>ceiling_height</th>\n",
       "      <th>cityCenters_nearest</th>\n",
       "      <th>days_exposition</th>\n",
       "      <th>first_day_exposition</th>\n",
       "      <th>floor</th>\n",
       "      <th>floors_total</th>\n",
       "      <th>is_apartment</th>\n",
       "      <th>kitchen_area</th>\n",
       "      <th>...</th>\n",
       "      <th>parks_nearest</th>\n",
       "      <th>ponds_around3000</th>\n",
       "      <th>ponds_nearest</th>\n",
       "      <th>price_per_meter</th>\n",
       "      <th>rooms</th>\n",
       "      <th>studio</th>\n",
       "      <th>total_area</th>\n",
       "      <th>total_images</th>\n",
       "      <th>weekday</th>\n",
       "      <th>year</th>\n",
       "    </tr>\n",
       "    <tr>\n",
       "      <th>locality_name</th>\n",
       "      <th></th>\n",
       "      <th></th>\n",
       "      <th></th>\n",
       "      <th></th>\n",
       "      <th></th>\n",
       "      <th></th>\n",
       "      <th></th>\n",
       "      <th></th>\n",
       "      <th></th>\n",
       "      <th></th>\n",
       "      <th></th>\n",
       "      <th></th>\n",
       "      <th></th>\n",
       "      <th></th>\n",
       "      <th></th>\n",
       "      <th></th>\n",
       "      <th></th>\n",
       "      <th></th>\n",
       "      <th></th>\n",
       "      <th></th>\n",
       "      <th></th>\n",
       "    </tr>\n",
       "  </thead>\n",
       "  <tbody>\n",
       "    <tr>\n",
       "      <td>Всеволожск</td>\n",
       "      <td>nan</td>\n",
       "      <td>0.9</td>\n",
       "      <td>2.7</td>\n",
       "      <td>nan</td>\n",
       "      <td>205.5</td>\n",
       "      <td>2017-12-10 22:17:57.165354240</td>\n",
       "      <td>4.8</td>\n",
       "      <td>8.7</td>\n",
       "      <td>0.9</td>\n",
       "      <td>10.5</td>\n",
       "      <td>...</td>\n",
       "      <td>nan</td>\n",
       "      <td>nan</td>\n",
       "      <td>nan</td>\n",
       "      <td>68151.2</td>\n",
       "      <td>2.0</td>\n",
       "      <td>0.0</td>\n",
       "      <td>57.1</td>\n",
       "      <td>10.7</td>\n",
       "      <td>2.5</td>\n",
       "      <td>2017.4</td>\n",
       "    </tr>\n",
       "    <tr>\n",
       "      <td>Гатчина</td>\n",
       "      <td>nan</td>\n",
       "      <td>0.9</td>\n",
       "      <td>2.6</td>\n",
       "      <td>nan</td>\n",
       "      <td>185.5</td>\n",
       "      <td>2017-12-19 20:25:31.914893568</td>\n",
       "      <td>3.4</td>\n",
       "      <td>6.1</td>\n",
       "      <td>0.9</td>\n",
       "      <td>8.3</td>\n",
       "      <td>...</td>\n",
       "      <td>nan</td>\n",
       "      <td>nan</td>\n",
       "      <td>nan</td>\n",
       "      <td>70986.3</td>\n",
       "      <td>2.0</td>\n",
       "      <td>0.0</td>\n",
       "      <td>51.7</td>\n",
       "      <td>9.3</td>\n",
       "      <td>2.7</td>\n",
       "      <td>2017.5</td>\n",
       "    </tr>\n",
       "    <tr>\n",
       "      <td>Колпино</td>\n",
       "      <td>26433.1</td>\n",
       "      <td>0.8</td>\n",
       "      <td>2.6</td>\n",
       "      <td>32198.3</td>\n",
       "      <td>142.3</td>\n",
       "      <td>2018-01-19 08:17:19.175257856</td>\n",
       "      <td>5.1</td>\n",
       "      <td>8.9</td>\n",
       "      <td>0.9</td>\n",
       "      <td>8.9</td>\n",
       "      <td>...</td>\n",
       "      <td>458.8</td>\n",
       "      <td>1.0</td>\n",
       "      <td>547.9</td>\n",
       "      <td>75317.9</td>\n",
       "      <td>2.2</td>\n",
       "      <td>0.0</td>\n",
       "      <td>54.6</td>\n",
       "      <td>9.7</td>\n",
       "      <td>2.5</td>\n",
       "      <td>2017.6</td>\n",
       "    </tr>\n",
       "    <tr>\n",
       "      <td>Петергоф</td>\n",
       "      <td>40332.6</td>\n",
       "      <td>0.5</td>\n",
       "      <td>2.6</td>\n",
       "      <td>35688.1</td>\n",
       "      <td>206.0</td>\n",
       "      <td>2017-10-15 14:00:52.554744576</td>\n",
       "      <td>3.5</td>\n",
       "      <td>5.9</td>\n",
       "      <td>0.9</td>\n",
       "      <td>8.0</td>\n",
       "      <td>...</td>\n",
       "      <td>408.6</td>\n",
       "      <td>1.4</td>\n",
       "      <td>510.6</td>\n",
       "      <td>84770.0</td>\n",
       "      <td>1.9</td>\n",
       "      <td>0.0</td>\n",
       "      <td>50.2</td>\n",
       "      <td>10.8</td>\n",
       "      <td>2.6</td>\n",
       "      <td>2017.3</td>\n",
       "    </tr>\n",
       "    <tr>\n",
       "      <td>Пушкин</td>\n",
       "      <td>16347.6</td>\n",
       "      <td>0.6</td>\n",
       "      <td>2.7</td>\n",
       "      <td>28739.0</td>\n",
       "      <td>231.4</td>\n",
       "      <td>2017-10-25 09:21:28.073394432</td>\n",
       "      <td>2.9</td>\n",
       "      <td>5.0</td>\n",
       "      <td>0.8</td>\n",
       "      <td>10.4</td>\n",
       "      <td>...</td>\n",
       "      <td>399.6</td>\n",
       "      <td>0.9</td>\n",
       "      <td>475.0</td>\n",
       "      <td>101914.0</td>\n",
       "      <td>2.0</td>\n",
       "      <td>0.0</td>\n",
       "      <td>58.5</td>\n",
       "      <td>9.5</td>\n",
       "      <td>2.4</td>\n",
       "      <td>2017.3</td>\n",
       "    </tr>\n",
       "    <tr>\n",
       "      <td>Санкт-Петербург</td>\n",
       "      <td>28242.6</td>\n",
       "      <td>0.7</td>\n",
       "      <td>2.7</td>\n",
       "      <td>11748.9</td>\n",
       "      <td>183.8</td>\n",
       "      <td>2018-01-05 08:54:38.606211584</td>\n",
       "      <td>6.0</td>\n",
       "      <td>11.1</td>\n",
       "      <td>0.9</td>\n",
       "      <td>10.6</td>\n",
       "      <td>...</td>\n",
       "      <td>489.0</td>\n",
       "      <td>0.7</td>\n",
       "      <td>532.2</td>\n",
       "      <td>110097.2</td>\n",
       "      <td>2.1</td>\n",
       "      <td>0.0</td>\n",
       "      <td>60.6</td>\n",
       "      <td>10.6</td>\n",
       "      <td>2.5</td>\n",
       "      <td>2017.5</td>\n",
       "    </tr>\n",
       "    <tr>\n",
       "      <td>Сестрорецк</td>\n",
       "      <td>56722.9</td>\n",
       "      <td>0.9</td>\n",
       "      <td>2.7</td>\n",
       "      <td>34571.8</td>\n",
       "      <td>203.3</td>\n",
       "      <td>2017-11-10 10:05:42.857142784</td>\n",
       "      <td>4.3</td>\n",
       "      <td>7.6</td>\n",
       "      <td>0.9</td>\n",
       "      <td>11.4</td>\n",
       "      <td>...</td>\n",
       "      <td>386.0</td>\n",
       "      <td>1.2</td>\n",
       "      <td>412.2</td>\n",
       "      <td>102037.1</td>\n",
       "      <td>2.1</td>\n",
       "      <td>0.0</td>\n",
       "      <td>63.1</td>\n",
       "      <td>10.1</td>\n",
       "      <td>2.5</td>\n",
       "      <td>2017.4</td>\n",
       "    </tr>\n",
       "    <tr>\n",
       "      <td>посёлок Мурино</td>\n",
       "      <td>nan</td>\n",
       "      <td>1.1</td>\n",
       "      <td>2.7</td>\n",
       "      <td>nan</td>\n",
       "      <td>177.8</td>\n",
       "      <td>2018-01-11 02:12:19.459459584</td>\n",
       "      <td>10.5</td>\n",
       "      <td>19.2</td>\n",
       "      <td>0.8</td>\n",
       "      <td>11.2</td>\n",
       "      <td>...</td>\n",
       "      <td>nan</td>\n",
       "      <td>nan</td>\n",
       "      <td>nan</td>\n",
       "      <td>86782.4</td>\n",
       "      <td>1.6</td>\n",
       "      <td>0.0</td>\n",
       "      <td>48.9</td>\n",
       "      <td>9.4</td>\n",
       "      <td>2.4</td>\n",
       "      <td>2017.5</td>\n",
       "    </tr>\n",
       "    <tr>\n",
       "      <td>посёлок Парголово</td>\n",
       "      <td>53913.1</td>\n",
       "      <td>0.9</td>\n",
       "      <td>2.6</td>\n",
       "      <td>20168.2</td>\n",
       "      <td>148.6</td>\n",
       "      <td>2017-11-24 17:04:00.000000000</td>\n",
       "      <td>11.4</td>\n",
       "      <td>21.2</td>\n",
       "      <td>0.8</td>\n",
       "      <td>11.6</td>\n",
       "      <td>...</td>\n",
       "      <td>304.8</td>\n",
       "      <td>0.3</td>\n",
       "      <td>489.6</td>\n",
       "      <td>91197.1</td>\n",
       "      <td>1.6</td>\n",
       "      <td>0.0</td>\n",
       "      <td>51.3</td>\n",
       "      <td>9.4</td>\n",
       "      <td>2.4</td>\n",
       "      <td>2017.4</td>\n",
       "    </tr>\n",
       "    <tr>\n",
       "      <td>посёлок Шушары</td>\n",
       "      <td>16457.8</td>\n",
       "      <td>0.8</td>\n",
       "      <td>2.6</td>\n",
       "      <td>25377.1</td>\n",
       "      <td>171.8</td>\n",
       "      <td>2017-12-11 18:43:54.146341376</td>\n",
       "      <td>5.8</td>\n",
       "      <td>10.7</td>\n",
       "      <td>0.8</td>\n",
       "      <td>10.9</td>\n",
       "      <td>...</td>\n",
       "      <td>nan</td>\n",
       "      <td>0.3</td>\n",
       "      <td>588.2</td>\n",
       "      <td>78497.3</td>\n",
       "      <td>2.0</td>\n",
       "      <td>0.0</td>\n",
       "      <td>56.7</td>\n",
       "      <td>9.7</td>\n",
       "      <td>2.6</td>\n",
       "      <td>2017.4</td>\n",
       "    </tr>\n",
       "  </tbody>\n",
       "</table>\n",
       "<p>10 rows × 27 columns</p>\n",
       "</div>"
      ],
      "text/plain": [
       "                   airports_nearest  balcony  ceiling_height  \\\n",
       "locality_name                                                  \n",
       "Всеволожск                      nan      0.9             2.7   \n",
       "Гатчина                         nan      0.9             2.6   \n",
       "Колпино                     26433.1      0.8             2.6   \n",
       "Петергоф                    40332.6      0.5             2.6   \n",
       "Пушкин                      16347.6      0.6             2.7   \n",
       "Санкт-Петербург             28242.6      0.7             2.7   \n",
       "Сестрорецк                  56722.9      0.9             2.7   \n",
       "посёлок Мурино                  nan      1.1             2.7   \n",
       "посёлок Парголово           53913.1      0.9             2.6   \n",
       "посёлок Шушары              16457.8      0.8             2.6   \n",
       "\n",
       "                   cityCenters_nearest  days_exposition  \\\n",
       "locality_name                                             \n",
       "Всеволожск                         nan            205.5   \n",
       "Гатчина                            nan            185.5   \n",
       "Колпино                        32198.3            142.3   \n",
       "Петергоф                       35688.1            206.0   \n",
       "Пушкин                         28739.0            231.4   \n",
       "Санкт-Петербург                11748.9            183.8   \n",
       "Сестрорецк                     34571.8            203.3   \n",
       "посёлок Мурино                     nan            177.8   \n",
       "посёлок Парголово              20168.2            148.6   \n",
       "посёлок Шушары                 25377.1            171.8   \n",
       "\n",
       "                           first_day_exposition  floor  floors_total  \\\n",
       "locality_name                                                          \n",
       "Всеволожск        2017-12-10 22:17:57.165354240    4.8           8.7   \n",
       "Гатчина           2017-12-19 20:25:31.914893568    3.4           6.1   \n",
       "Колпино           2018-01-19 08:17:19.175257856    5.1           8.9   \n",
       "Петергоф          2017-10-15 14:00:52.554744576    3.5           5.9   \n",
       "Пушкин            2017-10-25 09:21:28.073394432    2.9           5.0   \n",
       "Санкт-Петербург   2018-01-05 08:54:38.606211584    6.0          11.1   \n",
       "Сестрорецк        2017-11-10 10:05:42.857142784    4.3           7.6   \n",
       "посёлок Мурино    2018-01-11 02:12:19.459459584   10.5          19.2   \n",
       "посёлок Парголово 2017-11-24 17:04:00.000000000   11.4          21.2   \n",
       "посёлок Шушары    2017-12-11 18:43:54.146341376    5.8          10.7   \n",
       "\n",
       "                   is_apartment  kitchen_area  ...  parks_nearest  \\\n",
       "locality_name                                  ...                  \n",
       "Всеволожск                  0.9          10.5  ...            nan   \n",
       "Гатчина                     0.9           8.3  ...            nan   \n",
       "Колпино                     0.9           8.9  ...          458.8   \n",
       "Петергоф                    0.9           8.0  ...          408.6   \n",
       "Пушкин                      0.8          10.4  ...          399.6   \n",
       "Санкт-Петербург             0.9          10.6  ...          489.0   \n",
       "Сестрорецк                  0.9          11.4  ...          386.0   \n",
       "посёлок Мурино              0.8          11.2  ...            nan   \n",
       "посёлок Парголово           0.8          11.6  ...          304.8   \n",
       "посёлок Шушары              0.8          10.9  ...            nan   \n",
       "\n",
       "                   ponds_around3000  ponds_nearest  price_per_meter  rooms  \\\n",
       "locality_name                                                                \n",
       "Всеволожск                      nan            nan          68151.2    2.0   \n",
       "Гатчина                         nan            nan          70986.3    2.0   \n",
       "Колпино                         1.0          547.9          75317.9    2.2   \n",
       "Петергоф                        1.4          510.6          84770.0    1.9   \n",
       "Пушкин                          0.9          475.0         101914.0    2.0   \n",
       "Санкт-Петербург                 0.7          532.2         110097.2    2.1   \n",
       "Сестрорецк                      1.2          412.2         102037.1    2.1   \n",
       "посёлок Мурино                  nan            nan          86782.4    1.6   \n",
       "посёлок Парголово               0.3          489.6          91197.1    1.6   \n",
       "посёлок Шушары                  0.3          588.2          78497.3    2.0   \n",
       "\n",
       "                   studio  total_area  total_images  weekday   year  \n",
       "locality_name                                                        \n",
       "Всеволожск            0.0        57.1          10.7      2.5 2017.4  \n",
       "Гатчина               0.0        51.7           9.3      2.7 2017.5  \n",
       "Колпино               0.0        54.6           9.7      2.5 2017.6  \n",
       "Петергоф              0.0        50.2          10.8      2.6 2017.3  \n",
       "Пушкин                0.0        58.5           9.5      2.4 2017.3  \n",
       "Санкт-Петербург       0.0        60.6          10.6      2.5 2017.5  \n",
       "Сестрорецк            0.0        63.1          10.1      2.5 2017.4  \n",
       "посёлок Мурино        0.0        48.9           9.4      2.4 2017.5  \n",
       "посёлок Парголово     0.0        51.3           9.4      2.4 2017.4  \n",
       "посёлок Шушары        0.0        56.7           9.7      2.6 2017.4  \n",
       "\n",
       "[10 rows x 27 columns]"
      ]
     },
     "execution_count": 245,
     "metadata": {},
     "output_type": "execute_result"
    }
   ],
   "source": [
    "top_ten_data = data[data['locality_name'].isin(top_ten)].pivot_table(index = 'locality_name', aggfunc = 'mean')\n",
    "top_ten_data"
   ]
  },
  {
   "cell_type": "markdown",
   "metadata": {},
   "source": [
    "Выведем среднюю цену квадратного метра по каждому пункту:"
   ]
  },
  {
   "cell_type": "code",
   "execution_count": 246,
   "metadata": {},
   "outputs": [
    {
     "data": {
      "text/plain": [
       "locality_name\n",
       "Всеволожск           68151.2\n",
       "Гатчина              70986.3\n",
       "Колпино              75317.9\n",
       "посёлок Шушары       78497.3\n",
       "Петергоф             84770.0\n",
       "посёлок Мурино       86782.4\n",
       "посёлок Парголово    91197.1\n",
       "Пушкин              101914.0\n",
       "Сестрорецк          102037.1\n",
       "Санкт-Петербург     110097.2\n",
       "Name: price_per_meter, dtype: float64"
      ]
     },
     "execution_count": 246,
     "metadata": {},
     "output_type": "execute_result"
    }
   ],
   "source": [
    "top_ten_data['price_per_meter'].sort_values()"
   ]
  },
  {
   "cell_type": "markdown",
   "metadata": {},
   "source": [
    "### Вывод"
   ]
  },
  {
   "cell_type": "markdown",
   "metadata": {},
   "source": [
    "Самая высокая стоимость жилья - в Санкт-Петербурге (в среднем 110097р за кв м) и Сестрорецке(102037), а самая низкая - во Всеволжске(68151) и Гатчине (70986)"
   ]
  },
  {
   "cell_type": "markdown",
   "metadata": {},
   "source": [
    "#### Выяснить, какая область входит в центр в Санкт-Петербурга."
   ]
  },
  {
   "cell_type": "markdown",
   "metadata": {},
   "source": [
    "Сохраним в переменной sp_data информацию о квартирах в Петербурге на базе таблицы data: в столбце 'to_center_km' - расстояние до центра в километрах, округленное до целых значений, в столбце 'price_per_meter'- цену за квадратный метр"
   ]
  },
  {
   "cell_type": "code",
   "execution_count": 247,
   "metadata": {},
   "outputs": [
    {
     "data": {
      "text/html": [
       "<div>\n",
       "<style scoped>\n",
       "    .dataframe tbody tr th:only-of-type {\n",
       "        vertical-align: middle;\n",
       "    }\n",
       "\n",
       "    .dataframe tbody tr th {\n",
       "        vertical-align: top;\n",
       "    }\n",
       "\n",
       "    .dataframe thead th {\n",
       "        text-align: right;\n",
       "    }\n",
       "</style>\n",
       "<table border=\"1\" class=\"dataframe\">\n",
       "  <thead>\n",
       "    <tr style=\"text-align: right;\">\n",
       "      <th></th>\n",
       "      <th>to_center_km</th>\n",
       "      <th>price_per_meter</th>\n",
       "    </tr>\n",
       "  </thead>\n",
       "  <tbody>\n",
       "    <tr>\n",
       "      <td>0</td>\n",
       "      <td>16.0</td>\n",
       "      <td>120370.4</td>\n",
       "    </tr>\n",
       "    <tr>\n",
       "      <td>4</td>\n",
       "      <td>8.0</td>\n",
       "      <td>100000.0</td>\n",
       "    </tr>\n",
       "    <tr>\n",
       "      <td>9</td>\n",
       "      <td>15.0</td>\n",
       "      <td>88524.6</td>\n",
       "    </tr>\n",
       "    <tr>\n",
       "      <td>10</td>\n",
       "      <td>14.0</td>\n",
       "      <td>127525.3</td>\n",
       "    </tr>\n",
       "    <tr>\n",
       "      <td>16</td>\n",
       "      <td>11.0</td>\n",
       "      <td>81707.3</td>\n",
       "    </tr>\n",
       "    <tr>\n",
       "      <td>...</td>\n",
       "      <td>...</td>\n",
       "      <td>...</td>\n",
       "    </tr>\n",
       "    <tr>\n",
       "      <td>23602</td>\n",
       "      <td>14.0</td>\n",
       "      <td>91089.1</td>\n",
       "    </tr>\n",
       "    <tr>\n",
       "      <td>23603</td>\n",
       "      <td>16.0</td>\n",
       "      <td>100566.6</td>\n",
       "    </tr>\n",
       "    <tr>\n",
       "      <td>23605</td>\n",
       "      <td>4.0</td>\n",
       "      <td>129904.0</td>\n",
       "    </tr>\n",
       "    <tr>\n",
       "      <td>23608</td>\n",
       "      <td>4.0</td>\n",
       "      <td>72490.8</td>\n",
       "    </tr>\n",
       "    <tr>\n",
       "      <td>23611</td>\n",
       "      <td>10.0</td>\n",
       "      <td>149511.4</td>\n",
       "    </tr>\n",
       "  </tbody>\n",
       "</table>\n",
       "<p>9241 rows × 2 columns</p>\n",
       "</div>"
      ],
      "text/plain": [
       "       to_center_km  price_per_meter\n",
       "0              16.0         120370.4\n",
       "4               8.0         100000.0\n",
       "9              15.0          88524.6\n",
       "10             14.0         127525.3\n",
       "16             11.0          81707.3\n",
       "...             ...              ...\n",
       "23602          14.0          91089.1\n",
       "23603          16.0         100566.6\n",
       "23605           4.0         129904.0\n",
       "23608           4.0          72490.8\n",
       "23611          10.0         149511.4\n",
       "\n",
       "[9241 rows x 2 columns]"
      ]
     },
     "execution_count": 247,
     "metadata": {},
     "output_type": "execute_result"
    }
   ],
   "source": [
    "sp_data = pd.DataFrame()\n",
    "sp_data['to_center_km'] = round(data[data['locality_name'] == 'Санкт-Петербург']['cityCenters_nearest']/1000,0)\n",
    "sp_data['price_per_meter'] = data[data['locality_name'] == 'Санкт-Петербург']['price_per_meter']\n",
    "sp_data"
   ]
  },
  {
   "cell_type": "markdown",
   "metadata": {},
   "source": [
    "Теперь посчитаем среднюю цену для каждого километра: построим сводную таблицу из sp_data, в качестве индексов возьмем расстояние до центра в км, а значения - средняя цена за кв м из столбца 'price_per_meter' для этого километра удаленности от центра. Построим график, который показывает, как цена зависит от удалённости от центра. Определим границу, где график сильно меняется — это и будет центральная зона."
   ]
  },
  {
   "cell_type": "code",
   "execution_count": 248,
   "metadata": {},
   "outputs": [
    {
     "data": {
      "text/plain": [
       "<matplotlib.axes._subplots.AxesSubplot at 0x7feb3ebbd750>"
      ]
     },
     "execution_count": 248,
     "metadata": {},
     "output_type": "execute_result"
    },
    {
     "data": {
      "image/png": "[encoded data removed]",
      "text/plain": [
       "<Figure size 432x288 with 1 Axes>"
      ]
     },
     "metadata": {
      "needs_background": "light"
     },
     "output_type": "display_data"
    }
   ],
   "source": [
    "sp_data.pivot_table(index = 'to_center_km', aggfunc = 'mean').plot(xticks = (range(30)))"
   ]
  },
  {
   "cell_type": "markdown",
   "metadata": {},
   "source": [
    "### Вывод"
   ]
  },
  {
   "cell_type": "markdown",
   "metadata": {},
   "source": [
    "Итак, центральная зона - примерно до 9 км. Дальше цены убывают, за исключением необычного пика на 27 км)"
   ]
  },
  {
   "cell_type": "markdown",
   "metadata": {},
   "source": [
    "#### Выделите сегмент квартир в центре. Проанализируйте эту территорию и изучите следующие параметры: площадь, цена, число комнат, высота потолков."
   ]
  },
  {
   "cell_type": "markdown",
   "metadata": {},
   "source": [
    "Сохраним в переменной sp_center данные о квартирах в центре Петербурга (до 9 км) из таблицы data"
   ]
  },
  {
   "cell_type": "code",
   "execution_count": 249,
   "metadata": {
    "scrolled": true
   },
   "outputs": [
    {
     "data": {
      "text/html": [
       "<div>\n",
       "<style scoped>\n",
       "    .dataframe tbody tr th:only-of-type {\n",
       "        vertical-align: middle;\n",
       "    }\n",
       "\n",
       "    .dataframe tbody tr th {\n",
       "        vertical-align: top;\n",
       "    }\n",
       "\n",
       "    .dataframe thead th {\n",
       "        text-align: right;\n",
       "    }\n",
       "</style>\n",
       "<table border=\"1\" class=\"dataframe\">\n",
       "  <thead>\n",
       "    <tr style=\"text-align: right;\">\n",
       "      <th></th>\n",
       "      <th>total_images</th>\n",
       "      <th>last_price</th>\n",
       "      <th>total_area</th>\n",
       "      <th>first_day_exposition</th>\n",
       "      <th>rooms</th>\n",
       "      <th>ceiling_height</th>\n",
       "      <th>floors_total</th>\n",
       "      <th>living_area</th>\n",
       "      <th>floor</th>\n",
       "      <th>is_apartment</th>\n",
       "      <th>...</th>\n",
       "      <th>ponds_around3000</th>\n",
       "      <th>ponds_nearest</th>\n",
       "      <th>days_exposition</th>\n",
       "      <th>price_per_meter</th>\n",
       "      <th>weekday</th>\n",
       "      <th>month</th>\n",
       "      <th>year</th>\n",
       "      <th>floor_category</th>\n",
       "      <th>living_to_total</th>\n",
       "      <th>kitchen_to_total</th>\n",
       "    </tr>\n",
       "  </thead>\n",
       "  <tbody>\n",
       "    <tr>\n",
       "      <td>4</td>\n",
       "      <td>2</td>\n",
       "      <td>10000000.0</td>\n",
       "      <td>100.0</td>\n",
       "      <td>2018-06-19</td>\n",
       "      <td>2</td>\n",
       "      <td>3.0</td>\n",
       "      <td>14</td>\n",
       "      <td>32.0</td>\n",
       "      <td>13</td>\n",
       "      <td>True</td>\n",
       "      <td>...</td>\n",
       "      <td>1</td>\n",
       "      <td>48.0</td>\n",
       "      <td>121.0</td>\n",
       "      <td>100000.0</td>\n",
       "      <td>1</td>\n",
       "      <td>6</td>\n",
       "      <td>2018</td>\n",
       "      <td>другой</td>\n",
       "      <td>0.3</td>\n",
       "      <td>0.4</td>\n",
       "    </tr>\n",
       "    <tr>\n",
       "      <td>52</td>\n",
       "      <td>20</td>\n",
       "      <td>11795000.0</td>\n",
       "      <td>136.0</td>\n",
       "      <td>2017-09-22</td>\n",
       "      <td>6</td>\n",
       "      <td>3.0</td>\n",
       "      <td>2</td>\n",
       "      <td>94.0</td>\n",
       "      <td>2</td>\n",
       "      <td>True</td>\n",
       "      <td>...</td>\n",
       "      <td>0</td>\n",
       "      <td>nan</td>\n",
       "      <td>nan</td>\n",
       "      <td>86727.9</td>\n",
       "      <td>4</td>\n",
       "      <td>9</td>\n",
       "      <td>2017</td>\n",
       "      <td>последний</td>\n",
       "      <td>0.7</td>\n",
       "      <td>0.1</td>\n",
       "    </tr>\n",
       "    <tr>\n",
       "      <td>63</td>\n",
       "      <td>2</td>\n",
       "      <td>20000000.0</td>\n",
       "      <td>118.0</td>\n",
       "      <td>2018-09-11</td>\n",
       "      <td>3</td>\n",
       "      <td>3.0</td>\n",
       "      <td>9</td>\n",
       "      <td>68.0</td>\n",
       "      <td>7</td>\n",
       "      <td>True</td>\n",
       "      <td>...</td>\n",
       "      <td>1</td>\n",
       "      <td>779.0</td>\n",
       "      <td>37.0</td>\n",
       "      <td>169491.5</td>\n",
       "      <td>1</td>\n",
       "      <td>9</td>\n",
       "      <td>2018</td>\n",
       "      <td>другой</td>\n",
       "      <td>0.6</td>\n",
       "      <td>0.1</td>\n",
       "    </tr>\n",
       "    <tr>\n",
       "      <td>85</td>\n",
       "      <td>13</td>\n",
       "      <td>5200000.0</td>\n",
       "      <td>46.3</td>\n",
       "      <td>2018-11-26</td>\n",
       "      <td>2</td>\n",
       "      <td>3.0</td>\n",
       "      <td>5</td>\n",
       "      <td>27.8</td>\n",
       "      <td>5</td>\n",
       "      <td>True</td>\n",
       "      <td>...</td>\n",
       "      <td>1</td>\n",
       "      <td>682.0</td>\n",
       "      <td>65.0</td>\n",
       "      <td>112311.0</td>\n",
       "      <td>0</td>\n",
       "      <td>11</td>\n",
       "      <td>2018</td>\n",
       "      <td>последний</td>\n",
       "      <td>0.6</td>\n",
       "      <td>0.2</td>\n",
       "    </tr>\n",
       "    <tr>\n",
       "      <td>106</td>\n",
       "      <td>9</td>\n",
       "      <td>10500000.0</td>\n",
       "      <td>124.1</td>\n",
       "      <td>2017-05-25</td>\n",
       "      <td>5</td>\n",
       "      <td>3.2</td>\n",
       "      <td>4</td>\n",
       "      <td>79.4</td>\n",
       "      <td>3</td>\n",
       "      <td>True</td>\n",
       "      <td>...</td>\n",
       "      <td>0</td>\n",
       "      <td>nan</td>\n",
       "      <td>6.0</td>\n",
       "      <td>84609.2</td>\n",
       "      <td>3</td>\n",
       "      <td>5</td>\n",
       "      <td>2017</td>\n",
       "      <td>другой</td>\n",
       "      <td>0.6</td>\n",
       "      <td>0.2</td>\n",
       "    </tr>\n",
       "    <tr>\n",
       "      <td>...</td>\n",
       "      <td>...</td>\n",
       "      <td>...</td>\n",
       "      <td>...</td>\n",
       "      <td>...</td>\n",
       "      <td>...</td>\n",
       "      <td>...</td>\n",
       "      <td>...</td>\n",
       "      <td>...</td>\n",
       "      <td>...</td>\n",
       "      <td>...</td>\n",
       "      <td>...</td>\n",
       "      <td>...</td>\n",
       "      <td>...</td>\n",
       "      <td>...</td>\n",
       "      <td>...</td>\n",
       "      <td>...</td>\n",
       "      <td>...</td>\n",
       "      <td>...</td>\n",
       "      <td>...</td>\n",
       "      <td>...</td>\n",
       "      <td>...</td>\n",
       "    </tr>\n",
       "    <tr>\n",
       "      <td>23578</td>\n",
       "      <td>5</td>\n",
       "      <td>9000000.0</td>\n",
       "      <td>110.0</td>\n",
       "      <td>2015-12-10</td>\n",
       "      <td>4</td>\n",
       "      <td>3.4</td>\n",
       "      <td>7</td>\n",
       "      <td>64.6</td>\n",
       "      <td>5</td>\n",
       "      <td>True</td>\n",
       "      <td>...</td>\n",
       "      <td>1</td>\n",
       "      <td>118.0</td>\n",
       "      <td>816.0</td>\n",
       "      <td>81818.2</td>\n",
       "      <td>3</td>\n",
       "      <td>12</td>\n",
       "      <td>2015</td>\n",
       "      <td>другой</td>\n",
       "      <td>0.6</td>\n",
       "      <td>0.1</td>\n",
       "    </tr>\n",
       "    <tr>\n",
       "      <td>23582</td>\n",
       "      <td>13</td>\n",
       "      <td>6000000.0</td>\n",
       "      <td>47.0</td>\n",
       "      <td>2018-03-16</td>\n",
       "      <td>2</td>\n",
       "      <td>3.0</td>\n",
       "      <td>5</td>\n",
       "      <td>27.0</td>\n",
       "      <td>4</td>\n",
       "      <td>True</td>\n",
       "      <td>...</td>\n",
       "      <td>0</td>\n",
       "      <td>nan</td>\n",
       "      <td>157.0</td>\n",
       "      <td>127659.6</td>\n",
       "      <td>4</td>\n",
       "      <td>3</td>\n",
       "      <td>2018</td>\n",
       "      <td>другой</td>\n",
       "      <td>0.6</td>\n",
       "      <td>0.2</td>\n",
       "    </tr>\n",
       "    <tr>\n",
       "      <td>23595</td>\n",
       "      <td>13</td>\n",
       "      <td>5250000.0</td>\n",
       "      <td>43.0</td>\n",
       "      <td>2018-05-11</td>\n",
       "      <td>2</td>\n",
       "      <td>2.5</td>\n",
       "      <td>5</td>\n",
       "      <td>29.0</td>\n",
       "      <td>2</td>\n",
       "      <td>True</td>\n",
       "      <td>...</td>\n",
       "      <td>2</td>\n",
       "      <td>660.0</td>\n",
       "      <td>80.0</td>\n",
       "      <td>122093.0</td>\n",
       "      <td>4</td>\n",
       "      <td>5</td>\n",
       "      <td>2018</td>\n",
       "      <td>другой</td>\n",
       "      <td>0.7</td>\n",
       "      <td>0.1</td>\n",
       "    </tr>\n",
       "    <tr>\n",
       "      <td>23605</td>\n",
       "      <td>11</td>\n",
       "      <td>9470000.0</td>\n",
       "      <td>72.9</td>\n",
       "      <td>2016-10-13</td>\n",
       "      <td>2</td>\n",
       "      <td>2.8</td>\n",
       "      <td>25</td>\n",
       "      <td>40.3</td>\n",
       "      <td>7</td>\n",
       "      <td>True</td>\n",
       "      <td>...</td>\n",
       "      <td>1</td>\n",
       "      <td>806.0</td>\n",
       "      <td>519.0</td>\n",
       "      <td>129904.0</td>\n",
       "      <td>3</td>\n",
       "      <td>10</td>\n",
       "      <td>2016</td>\n",
       "      <td>другой</td>\n",
       "      <td>0.6</td>\n",
       "      <td>0.1</td>\n",
       "    </tr>\n",
       "    <tr>\n",
       "      <td>23608</td>\n",
       "      <td>9</td>\n",
       "      <td>9700000.0</td>\n",
       "      <td>133.8</td>\n",
       "      <td>2017-03-21</td>\n",
       "      <td>3</td>\n",
       "      <td>3.7</td>\n",
       "      <td>5</td>\n",
       "      <td>73.3</td>\n",
       "      <td>3</td>\n",
       "      <td>True</td>\n",
       "      <td>...</td>\n",
       "      <td>3</td>\n",
       "      <td>381.0</td>\n",
       "      <td>nan</td>\n",
       "      <td>72490.8</td>\n",
       "      <td>1</td>\n",
       "      <td>3</td>\n",
       "      <td>2017</td>\n",
       "      <td>другой</td>\n",
       "      <td>0.5</td>\n",
       "      <td>0.1</td>\n",
       "    </tr>\n",
       "  </tbody>\n",
       "</table>\n",
       "<p>2559 rows × 29 columns</p>\n",
       "</div>"
      ],
      "text/plain": [
       "       total_images  last_price  total_area first_day_exposition  rooms  \\\n",
       "4                 2  10000000.0       100.0           2018-06-19      2   \n",
       "52               20  11795000.0       136.0           2017-09-22      6   \n",
       "63                2  20000000.0       118.0           2018-09-11      3   \n",
       "85               13   5200000.0        46.3           2018-11-26      2   \n",
       "106               9  10500000.0       124.1           2017-05-25      5   \n",
       "...             ...         ...         ...                  ...    ...   \n",
       "23578             5   9000000.0       110.0           2015-12-10      4   \n",
       "23582            13   6000000.0        47.0           2018-03-16      2   \n",
       "23595            13   5250000.0        43.0           2018-05-11      2   \n",
       "23605            11   9470000.0        72.9           2016-10-13      2   \n",
       "23608             9   9700000.0       133.8           2017-03-21      3   \n",
       "\n",
       "       ceiling_height  floors_total  living_area  floor  is_apartment  ...  \\\n",
       "4                 3.0            14         32.0     13          True  ...   \n",
       "52                3.0             2         94.0      2          True  ...   \n",
       "63                3.0             9         68.0      7          True  ...   \n",
       "85                3.0             5         27.8      5          True  ...   \n",
       "106               3.2             4         79.4      3          True  ...   \n",
       "...               ...           ...          ...    ...           ...  ...   \n",
       "23578             3.4             7         64.6      5          True  ...   \n",
       "23582             3.0             5         27.0      4          True  ...   \n",
       "23595             2.5             5         29.0      2          True  ...   \n",
       "23605             2.8            25         40.3      7          True  ...   \n",
       "23608             3.7             5         73.3      3          True  ...   \n",
       "\n",
       "       ponds_around3000  ponds_nearest  days_exposition  price_per_meter  \\\n",
       "4                     1           48.0            121.0         100000.0   \n",
       "52                    0            nan              nan          86727.9   \n",
       "63                    1          779.0             37.0         169491.5   \n",
       "85                    1          682.0             65.0         112311.0   \n",
       "106                   0            nan              6.0          84609.2   \n",
       "...                 ...            ...              ...              ...   \n",
       "23578                 1          118.0            816.0          81818.2   \n",
       "23582                 0            nan            157.0         127659.6   \n",
       "23595                 2          660.0             80.0         122093.0   \n",
       "23605                 1          806.0            519.0         129904.0   \n",
       "23608                 3          381.0              nan          72490.8   \n",
       "\n",
       "      weekday  month  year  floor_category  living_to_total  kitchen_to_total  \n",
       "4           1      6  2018          другой              0.3               0.4  \n",
       "52          4      9  2017       последний              0.7               0.1  \n",
       "63          1      9  2018          другой              0.6               0.1  \n",
       "85          0     11  2018       последний              0.6               0.2  \n",
       "106         3      5  2017          другой              0.6               0.2  \n",
       "...       ...    ...   ...             ...              ...               ...  \n",
       "23578       3     12  2015          другой              0.6               0.1  \n",
       "23582       4      3  2018          другой              0.6               0.2  \n",
       "23595       4      5  2018          другой              0.7               0.1  \n",
       "23605       3     10  2016          другой              0.6               0.1  \n",
       "23608       1      3  2017          другой              0.5               0.1  \n",
       "\n",
       "[2559 rows x 29 columns]"
      ]
     },
     "execution_count": 249,
     "metadata": {},
     "output_type": "execute_result"
    }
   ],
   "source": [
    "sp_center = data[(data['locality_name'] == 'Санкт-Петербург')\\\n",
    " & (round(data['cityCenters_nearest']/1000,0) <= 9.0)]\n",
    "sp_center"
   ]
  },
  {
   "cell_type": "markdown",
   "metadata": {},
   "source": [
    "В этом районе продавалось около 2559 квартир. Изучим площадь, цену за кв м, число комнат, высоту потолков."
   ]
  },
  {
   "cell_type": "code",
   "execution_count": 250,
   "metadata": {},
   "outputs": [
    {
     "data": {
      "text/html": [
       "<div>\n",
       "<style scoped>\n",
       "    .dataframe tbody tr th:only-of-type {\n",
       "        vertical-align: middle;\n",
       "    }\n",
       "\n",
       "    .dataframe tbody tr th {\n",
       "        vertical-align: top;\n",
       "    }\n",
       "\n",
       "    .dataframe thead th {\n",
       "        text-align: right;\n",
       "    }\n",
       "</style>\n",
       "<table border=\"1\" class=\"dataframe\">\n",
       "  <thead>\n",
       "    <tr style=\"text-align: right;\">\n",
       "      <th></th>\n",
       "      <th>total_area</th>\n",
       "      <th>price_per_meter</th>\n",
       "      <th>rooms</th>\n",
       "      <th>ceiling_height</th>\n",
       "    </tr>\n",
       "  </thead>\n",
       "  <tbody>\n",
       "    <tr>\n",
       "      <td>count</td>\n",
       "      <td>2559.0</td>\n",
       "      <td>2559.0</td>\n",
       "      <td>2559.0</td>\n",
       "      <td>2559.0</td>\n",
       "    </tr>\n",
       "    <tr>\n",
       "      <td>mean</td>\n",
       "      <td>73.8</td>\n",
       "      <td>123948.1</td>\n",
       "      <td>2.5</td>\n",
       "      <td>3.0</td>\n",
       "    </tr>\n",
       "    <tr>\n",
       "      <td>std</td>\n",
       "      <td>28.1</td>\n",
       "      <td>34869.1</td>\n",
       "      <td>1.0</td>\n",
       "      <td>0.3</td>\n",
       "    </tr>\n",
       "    <tr>\n",
       "      <td>min</td>\n",
       "      <td>30.3</td>\n",
       "      <td>59523.8</td>\n",
       "      <td>1.0</td>\n",
       "      <td>2.4</td>\n",
       "    </tr>\n",
       "    <tr>\n",
       "      <td>25%</td>\n",
       "      <td>50.9</td>\n",
       "      <td>97841.3</td>\n",
       "      <td>2.0</td>\n",
       "      <td>2.7</td>\n",
       "    </tr>\n",
       "    <tr>\n",
       "      <td>50%</td>\n",
       "      <td>70.0</td>\n",
       "      <td>117079.6</td>\n",
       "      <td>2.0</td>\n",
       "      <td>3.0</td>\n",
       "    </tr>\n",
       "    <tr>\n",
       "      <td>75%</td>\n",
       "      <td>92.0</td>\n",
       "      <td>142133.8</td>\n",
       "      <td>3.0</td>\n",
       "      <td>3.2</td>\n",
       "    </tr>\n",
       "    <tr>\n",
       "      <td>max</td>\n",
       "      <td>149.3</td>\n",
       "      <td>248333.3</td>\n",
       "      <td>6.0</td>\n",
       "      <td>4.0</td>\n",
       "    </tr>\n",
       "  </tbody>\n",
       "</table>\n",
       "</div>"
      ],
      "text/plain": [
       "       total_area  price_per_meter  rooms  ceiling_height\n",
       "count      2559.0           2559.0 2559.0          2559.0\n",
       "mean         73.8         123948.1    2.5             3.0\n",
       "std          28.1          34869.1    1.0             0.3\n",
       "min          30.3          59523.8    1.0             2.4\n",
       "25%          50.9          97841.3    2.0             2.7\n",
       "50%          70.0         117079.6    2.0             3.0\n",
       "75%          92.0         142133.8    3.0             3.2\n",
       "max         149.3         248333.3    6.0             4.0"
      ]
     },
     "execution_count": 250,
     "metadata": {},
     "output_type": "execute_result"
    }
   ],
   "source": [
    "sp_center.describe()[['total_area', 'price_per_meter', 'rooms', 'ceiling_height']]"
   ]
  },
  {
   "cell_type": "markdown",
   "metadata": {},
   "source": [
    "### Вывод"
   ]
  },
  {
   "cell_type": "markdown",
   "metadata": {},
   "source": [
    "Квартиры в этом районе представлены самые разрные: площадью от 30.3 до 149.3 кв м (в среднем - 73.8), с числом комнат от 1 до 6 (чаще - 2), высотой потолков от 2.4 до 4 м (в среднем - 3), и ценой за кв м от ~60 000 и до ~250 000 р. (в срднем - ~124 000р за кв м)"
   ]
  },
  {
   "cell_type": "markdown",
   "metadata": {},
   "source": [
    "**Также выделите факторы, которые влияют на стоимость квартиры (число комнат, этаж, удалённость от центра, дата размещения объявления). Сделайте выводы. Отличаются ли они от общих выводов по всему городу?**"
   ]
  },
  {
   "cell_type": "markdown",
   "metadata": {},
   "source": [
    "Сравним коэффициенты корреляции между ценой и числом комнат, этажом, удалённостью от центра, днем недели и месяцем размещения объявления по всему Санкт-Петербургу и по его центру"
   ]
  },
  {
   "cell_type": "code",
   "execution_count": 251,
   "metadata": {},
   "outputs": [
    {
     "name": "stdout",
     "output_type": "stream",
     "text": [
      "По всему городу:\n",
      "                     last_price  rooms  cityCenters_nearest  weekday  month\n",
      "last_price                  1.0    0.5                 -0.4     -0.0   -0.0\n",
      "rooms                       0.5    1.0                 -0.2     -0.0    0.0\n",
      "cityCenters_nearest        -0.4   -0.2                  1.0     -0.0    0.0\n",
      "weekday                    -0.0   -0.0                 -0.0      1.0   -0.0\n",
      "month                      -0.0    0.0                  0.0     -0.0    1.0\n",
      "\n",
      "По центру:\n",
      "                     last_price  rooms  cityCenters_nearest  weekday  month\n",
      "last_price                  1.0    0.4                 -0.2     -0.0   -0.0\n",
      "rooms                       0.4    1.0                 -0.3     -0.0    0.0\n",
      "cityCenters_nearest        -0.2   -0.3                  1.0      0.0   -0.0\n",
      "weekday                    -0.0   -0.0                  0.0      1.0    0.0\n",
      "month                      -0.0    0.0                 -0.0      0.0    1.0\n"
     ]
    }
   ],
   "source": [
    "print('По всему городу:')\n",
    "print(data[data['locality_name'] == 'Санкт-Петербург'][['last_price', 'rooms', 'floor_category', 'cityCenters_nearest', 'weekday', 'month']].corr())\n",
    "print('\\nПо центру:')\n",
    "print(sp_center[['last_price', 'rooms', 'floor_category', 'cityCenters_nearest', 'weekday', 'month']].corr())"
   ]
  },
  {
   "cell_type": "markdown",
   "metadata": {},
   "source": [
    "### Вывод"
   ]
  },
  {
   "cell_type": "markdown",
   "metadata": {},
   "source": [
    "На стоимость квартиры как по всему Санкт-Петербургу, так и по его центру не влияют ни день недели, ни месяц публикации объявления. Число комнат коррелирует с ценой по всему городу на 0.1 больше, чем по его центру. А вот от близости к центру цена квартиры в центральном районе Петербурга зависит гораздо меньше (-0.2 - почти не зависит), сравнивая с зависимостью по всему городу. Оно и ясно: квартиры и так находятся в районе центра, поэтому +-1 км практически ничего не решает."
   ]
  },
  {
   "cell_type": "markdown",
   "metadata": {},
   "source": [
    "<div style=\"border:solid  green  2px; padding: 20px\"> <h1 style=\"color: green ; margin-bottom:20px\">Комментарий наставника</h1>\n",
    "\n",
    "Всё абсолютно верно, радует,что пишешь такие подробные и всепокрывающие выводы"
   ]
  },
  {
   "cell_type": "markdown",
   "metadata": {},
   "source": [
    "### Шаг 5. Общий вывод"
   ]
  },
  {
   "cell_type": "markdown",
   "metadata": {},
   "source": [
    "Таким образом, цены на квартиры больше всего завися от общей площади квартиры (коэффициент корреляции = 0.8), в меньшей степени- от числа комнат (0.5), и в незначительной степени - от удаленности от центра(-0.3 (обратная зависимость - чем дальше от центра, тем дешевле). При этом  квартиры на первом и последнем этажах стоят дешевле квартир на остальных этажах. Прослеживаемые зависимости от даты публикации: а)квартиры, объявления для которых выложены в будние дни, продаются по более высокой цене, в сравнении с выложенными на выходных; б) квартиры, объявления для которых выложены в мае, продаются по самой низкой цене, а февральские, мартовские и апрельские- по высокой (пик в феврале); в) цены на квартиры росли с 2014 по 2018 год, в 2018 достигли пика, а к 2019 снизились.\n",
    "\n",
    "В районе Санкт-Петербурга и соседних населённых пунктов 10 населённых пунктов с наибольшим числом объявлений - Санкт-Петербург, Всеволожск,Пушкин, посёлок Шушары, Колпино, посёлок Мурино, Гатчина, Петергоф, посёлок Парголово, Сестрорецк. Самая высокая стоимость жилья - в Санкт-Петербурге (в среднем 110097р за кв м), а самая низкая - во Всеволжске(68151). При этом цена квартир в центре Санкт-Петербурга имеет все те же зависимости от параметров, описанных выше, за исключением удаленности от центра: здесь эта зависимость куда более слабая."
   ]
  },
  {
   "cell_type": "markdown",
   "metadata": {},
   "source": [
    "<div style=\"border:solid green 2px; padding: 20px\"> <h1 style=\"color:green; margin-bottom:20px\">Комментарий наставника</h1>\n",
    "\n",
    "Замечательный вывод покрывающий все аспекты проделанной работы! "
   ]
  },
  {
   "cell_type": "markdown",
   "metadata": {},
   "source": [
    "### Чек-лист готовности проекта\n",
    "\n",
    "Поставьте 'x' в выполненных пунктах. Далее нажмите Shift+Enter."
   ]
  },
  {
   "cell_type": "markdown",
   "metadata": {},
   "source": [
    "- [x]  открыт файл\n",
    "- [x]  файлы изучены (выведены первые строки, метод info())\n",
    "- [x]  определены пропущенные значения\n",
    "- [x]  заполнены пропущенные значения\n",
    "- [x]  есть пояснение какие пропущенные значения обнаружены\n",
    "- [x]  изменены типы данных\n",
    "- [x]  есть пояснение в каких столбцах изменены типы и почему\n",
    "- [x]  посчитано и добавлено в таблицу: цена квадратного метра\n",
    "- [x]  посчитано и добавлено в таблицу: день недели, месяц и год публикации объявления\n",
    "- [x]  посчитано и добавлено в таблицу: этаж квартиры; варианты — первый, последний, другой\n",
    "- [x]  посчитано и добавлено в таблицу: соотношение жилой и общей площади, а также отношение площади кухни к общей\n",
    "- [x]  изучены следующие параметры: площадь, цена, число комнат, высота потолков\n",
    "- [x]  построены гистограммы для каждого параметра\n",
    "- [x]  выполнено задание: \"Изучите время продажи квартиры. Постройте гистограмму. Посчитайте среднее и медиану. Опишите, сколько обычно занимает продажа. Когда можно считать, что продажи прошли очень быстро, а когда необычно долго?\"\n",
    "- [x]  выполнено задание: \"Уберите редкие и выбивающиеся значения. Опишите, какие особенности обнаружили.\"\n",
    "- [x]  выполнено задание: \"Какие факторы больше всего влияют на стоимость квартиры? Изучите, зависит ли цена от квадратного метра, числа комнат, этажа (первого или последнего), удалённости от центра. Также изучите зависимость от даты размещения: дня недели, месяца и года. \"Выберите 10 населённых пунктов с наибольшим числом объявлений. Посчитайте среднюю цену квадратного метра в этих населённых пунктах. Выделите населённые пункты с самой высокой и низкой стоимостью жилья. Эти данные можно найти по имени в столбце '*locality_name'*. \"\n",
    "- [x]  выполнено задание: \"Изучите предложения квартир: для каждой квартиры есть информация о расстоянии до центра. Выделите квартиры в Санкт-Петербурге (*'locality_name'*). Ваша задача — выяснить, какая область входит в центр. Создайте столбец с расстоянием до центра в километрах: округлите до целых значений. После этого посчитайте среднюю цену для каждого километра. Постройте график: он должен показывать, как цена зависит от удалённости от центра. Определите границу, где график сильно меняется — это и будет центральная зона. \"\n",
    "- [x]  выполнено задание: \"Выделите сегмент квартир в центре. Проанализируйте эту территорию и изучите следующие параметры: площадь, цена, число комнат, высота потолков. Также выделите факторы, которые влияют на стоимость квартиры (число комнат, этаж, удалённость от центра, дата размещения объявления). Сделайте выводы. Отличаются ли они от общих выводов по всему городу?\"\n",
    "- [x]  в каждом этапе есть выводы\n",
    "- [x]  есть общий вывод"
   ]
  },
  {
   "cell_type": "markdown",
   "metadata": {},
   "source": [
    "<div style=\"border:solid  green  2px; padding: 20px\">\n",
    "\n",
    "<h1 style=\"color: green ; margin-bottom:20px\">Комментарий наставника</h1>\n",
    "\n",
    "#### Код\n",
    "\n",
    "Всё отлично. Из того, что очень порадовало - соблюдена структура проекта, шаги из задания обозначены и выполнены последовательно, код написан аккуратно, используются комментарии к коду, быстро можно понять, какие операции выполняют сложные конструкции. В качестве совета предлагаю глубже изучить библиотеку Seaborn для построения более ярких и качественных визуализаций в Python, так как иногда хорошая красочная визуализация может сказать очень многое о данных.\n",
    "\n",
    "#### Выводы\n",
    "\n",
    "Ты пишешь отличные обоснованные выводы по проделанной раблоте и выдвигаешь корректные гипотезы - это очень радует!) Так же видно глубокое понимание проведённого анализа. Было очень интересно проверять твой проект и следить за твоей мыслью, продолжай в том же духе) Удачи!)"
   ]
  },
  {
   "cell_type": "code",
   "execution_count": null,
   "metadata": {},
   "outputs": [],
   "source": []
  }
 ],
 "metadata": {
  "kernelspec": {
   "display_name": "Python 3",
   "language": "python",
   "name": "python3"
  },
  "language_info": {
   "codemirror_mode": {
    "name": "ipython",
    "version": 3
   },
   "file_extension": ".py",
   "mimetype": "text/x-python",
   "name": "python",
   "nbconvert_exporter": "python",
   "pygments_lexer": "ipython3",
   "version": "3.7.6"
  }
 },
 "nbformat": 4,
 "nbformat_minor": 2
}
